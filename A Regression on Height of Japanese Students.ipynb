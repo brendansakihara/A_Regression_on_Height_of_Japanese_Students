{
 "cells": [
  {
   "cell_type": "markdown",
   "metadata": {},
   "source": [
    "# A Regression on Height of Japanese Students"
   ]
  },
  {
   "cell_type": "markdown",
   "metadata": {},
   "source": [
    "I will be making a regression model on height of Japanese students based on characterisitcs such as age, weight, and gender.\n",
    "\n",
    "Dataset: https://www.kaggle.com/datasets/risakashiwabara/jpmean-and-standard-deviation-of-height-and-weight"
   ]
  },
  {
   "cell_type": "code",
   "execution_count": 143,
   "metadata": {},
   "outputs": [],
   "source": [
    "# Importing the basic packages\n",
    "\n",
    "import pandas as pd\n",
    "import numpy as np\n",
    "import matplotlib.pyplot as plt\n",
    "import scipy.stats as stats\n",
    "import math\n",
    "import seaborn as sns"
   ]
  },
  {
   "cell_type": "markdown",
   "metadata": {},
   "source": [
    "### Data Cleaning and Preparing to Create the Regression Model"
   ]
  },
  {
   "cell_type": "code",
   "execution_count": 144,
   "metadata": {},
   "outputs": [],
   "source": [
    "# Importing the datasets\n",
    "df_male = pd.read_csv('man.csv')\n",
    "df_female = pd.read_csv('woman.csv')"
   ]
  },
  {
   "cell_type": "code",
   "execution_count": 145,
   "metadata": {},
   "outputs": [
    {
     "data": {
      "text/html": [
       "<div>\n",
       "<style scoped>\n",
       "    .dataframe tbody tr th:only-of-type {\n",
       "        vertical-align: middle;\n",
       "    }\n",
       "\n",
       "    .dataframe tbody tr th {\n",
       "        vertical-align: top;\n",
       "    }\n",
       "\n",
       "    .dataframe thead th {\n",
       "        text-align: right;\n",
       "    }\n",
       "</style>\n",
       "<table border=\"1\" class=\"dataframe\">\n",
       "  <thead>\n",
       "    <tr style=\"text-align: right;\">\n",
       "      <th></th>\n",
       "      <th>year</th>\n",
       "      <th>category</th>\n",
       "      <th>height_average</th>\n",
       "      <th>height_standard deviation</th>\n",
       "      <th>body weight _average</th>\n",
       "      <th>body weight _standard deviation</th>\n",
       "    </tr>\n",
       "  </thead>\n",
       "  <tbody>\n",
       "    <tr>\n",
       "      <th>0</th>\n",
       "      <td>5</td>\n",
       "      <td>national</td>\n",
       "      <td>111.0</td>\n",
       "      <td>4.87</td>\n",
       "      <td>19.3</td>\n",
       "      <td>2.79</td>\n",
       "    </tr>\n",
       "    <tr>\n",
       "      <th>1</th>\n",
       "      <td>5</td>\n",
       "      <td>Hokkaido</td>\n",
       "      <td>111.3</td>\n",
       "      <td>4.81</td>\n",
       "      <td>19.3</td>\n",
       "      <td>2.83</td>\n",
       "    </tr>\n",
       "    <tr>\n",
       "      <th>2</th>\n",
       "      <td>5</td>\n",
       "      <td>Aomori</td>\n",
       "      <td>111.8</td>\n",
       "      <td>4.87</td>\n",
       "      <td>19.9</td>\n",
       "      <td>2.78</td>\n",
       "    </tr>\n",
       "    <tr>\n",
       "      <th>3</th>\n",
       "      <td>5</td>\n",
       "      <td>Iwate</td>\n",
       "      <td>111.0</td>\n",
       "      <td>5.08</td>\n",
       "      <td>19.6</td>\n",
       "      <td>3.02</td>\n",
       "    </tr>\n",
       "    <tr>\n",
       "      <th>4</th>\n",
       "      <td>5</td>\n",
       "      <td>Miyagi</td>\n",
       "      <td>111.3</td>\n",
       "      <td>4.90</td>\n",
       "      <td>19.7</td>\n",
       "      <td>3.04</td>\n",
       "    </tr>\n",
       "  </tbody>\n",
       "</table>\n",
       "</div>"
      ],
      "text/plain": [
       "   year  category  height_average  height_standard deviation  \\\n",
       "0     5  national           111.0                       4.87   \n",
       "1     5  Hokkaido           111.3                       4.81   \n",
       "2     5    Aomori           111.8                       4.87   \n",
       "3     5     Iwate           111.0                       5.08   \n",
       "4     5    Miyagi           111.3                       4.90   \n",
       "\n",
       "   body weight _average  body weight _standard deviation  \n",
       "0                  19.3                             2.79  \n",
       "1                  19.3                             2.83  \n",
       "2                  19.9                             2.78  \n",
       "3                  19.6                             3.02  \n",
       "4                  19.7                             3.04  "
      ]
     },
     "execution_count": 145,
     "metadata": {},
     "output_type": "execute_result"
    }
   ],
   "source": [
    "df_male.head()"
   ]
  },
  {
   "cell_type": "code",
   "execution_count": 146,
   "metadata": {},
   "outputs": [
    {
     "data": {
      "text/html": [
       "<div>\n",
       "<style scoped>\n",
       "    .dataframe tbody tr th:only-of-type {\n",
       "        vertical-align: middle;\n",
       "    }\n",
       "\n",
       "    .dataframe tbody tr th {\n",
       "        vertical-align: top;\n",
       "    }\n",
       "\n",
       "    .dataframe thead th {\n",
       "        text-align: right;\n",
       "    }\n",
       "</style>\n",
       "<table border=\"1\" class=\"dataframe\">\n",
       "  <thead>\n",
       "    <tr style=\"text-align: right;\">\n",
       "      <th></th>\n",
       "      <th>year</th>\n",
       "      <th>category</th>\n",
       "      <th>height_average_1</th>\n",
       "      <th>height_standard deviation_2</th>\n",
       "      <th>body weight _average_3</th>\n",
       "      <th>body weight _standard deviation_4</th>\n",
       "    </tr>\n",
       "  </thead>\n",
       "  <tbody>\n",
       "    <tr>\n",
       "      <th>0</th>\n",
       "      <td>5</td>\n",
       "      <td>national</td>\n",
       "      <td>110.1</td>\n",
       "      <td>4.86</td>\n",
       "      <td>19.0</td>\n",
       "      <td>2.74</td>\n",
       "    </tr>\n",
       "    <tr>\n",
       "      <th>1</th>\n",
       "      <td>5</td>\n",
       "      <td>Hokkaido</td>\n",
       "      <td>110.1</td>\n",
       "      <td>4.90</td>\n",
       "      <td>18.9</td>\n",
       "      <td>2.98</td>\n",
       "    </tr>\n",
       "    <tr>\n",
       "      <th>2</th>\n",
       "      <td>5</td>\n",
       "      <td>Aomori</td>\n",
       "      <td>111.0</td>\n",
       "      <td>4.95</td>\n",
       "      <td>19.5</td>\n",
       "      <td>2.98</td>\n",
       "    </tr>\n",
       "    <tr>\n",
       "      <th>3</th>\n",
       "      <td>5</td>\n",
       "      <td>Iwate</td>\n",
       "      <td>110.6</td>\n",
       "      <td>4.72</td>\n",
       "      <td>19.3</td>\n",
       "      <td>2.91</td>\n",
       "    </tr>\n",
       "    <tr>\n",
       "      <th>4</th>\n",
       "      <td>5</td>\n",
       "      <td>Miyagi</td>\n",
       "      <td>110.6</td>\n",
       "      <td>4.91</td>\n",
       "      <td>19.5</td>\n",
       "      <td>2.88</td>\n",
       "    </tr>\n",
       "  </tbody>\n",
       "</table>\n",
       "</div>"
      ],
      "text/plain": [
       "   year  category  height_average_1  height_standard deviation_2  \\\n",
       "0     5  national             110.1                         4.86   \n",
       "1     5  Hokkaido             110.1                         4.90   \n",
       "2     5    Aomori             111.0                         4.95   \n",
       "3     5     Iwate             110.6                         4.72   \n",
       "4     5    Miyagi             110.6                         4.91   \n",
       "\n",
       "   body weight _average_3  body weight _standard deviation_4  \n",
       "0                    19.0                               2.74  \n",
       "1                    18.9                               2.98  \n",
       "2                    19.5                               2.98  \n",
       "3                    19.3                               2.91  \n",
       "4                    19.5                               2.88  "
      ]
     },
     "execution_count": 146,
     "metadata": {},
     "output_type": "execute_result"
    }
   ],
   "source": [
    "df_female.head()"
   ]
  },
  {
   "cell_type": "code",
   "execution_count": 147,
   "metadata": {},
   "outputs": [
    {
     "data": {
      "text/html": [
       "<div>\n",
       "<style scoped>\n",
       "    .dataframe tbody tr th:only-of-type {\n",
       "        vertical-align: middle;\n",
       "    }\n",
       "\n",
       "    .dataframe tbody tr th {\n",
       "        vertical-align: top;\n",
       "    }\n",
       "\n",
       "    .dataframe thead th {\n",
       "        text-align: right;\n",
       "    }\n",
       "</style>\n",
       "<table border=\"1\" class=\"dataframe\">\n",
       "  <thead>\n",
       "    <tr style=\"text-align: right;\">\n",
       "      <th></th>\n",
       "      <th>year</th>\n",
       "      <th>height_average</th>\n",
       "      <th>height_standard deviation</th>\n",
       "      <th>body weight _average</th>\n",
       "      <th>body weight _standard deviation</th>\n",
       "    </tr>\n",
       "  </thead>\n",
       "  <tbody>\n",
       "    <tr>\n",
       "      <th>count</th>\n",
       "      <td>624.000000</td>\n",
       "      <td>624.000000</td>\n",
       "      <td>624.000000</td>\n",
       "      <td>624.000000</td>\n",
       "      <td>624.000000</td>\n",
       "    </tr>\n",
       "    <tr>\n",
       "      <th>mean</th>\n",
       "      <td>11.000000</td>\n",
       "      <td>145.072917</td>\n",
       "      <td>6.072420</td>\n",
       "      <td>40.986218</td>\n",
       "      <td>7.869792</td>\n",
       "    </tr>\n",
       "    <tr>\n",
       "      <th>std</th>\n",
       "      <td>3.744659</td>\n",
       "      <td>20.507207</td>\n",
       "      <td>0.942226</td>\n",
       "      <td>14.991854</td>\n",
       "      <td>2.932388</td>\n",
       "    </tr>\n",
       "    <tr>\n",
       "      <th>min</th>\n",
       "      <td>5.000000</td>\n",
       "      <td>110.000000</td>\n",
       "      <td>4.460000</td>\n",
       "      <td>18.900000</td>\n",
       "      <td>2.300000</td>\n",
       "    </tr>\n",
       "    <tr>\n",
       "      <th>25%</th>\n",
       "      <td>8.000000</td>\n",
       "      <td>128.000000</td>\n",
       "      <td>5.350000</td>\n",
       "      <td>27.400000</td>\n",
       "      <td>5.210000</td>\n",
       "    </tr>\n",
       "    <tr>\n",
       "      <th>50%</th>\n",
       "      <td>11.000000</td>\n",
       "      <td>145.900000</td>\n",
       "      <td>5.900000</td>\n",
       "      <td>39.650000</td>\n",
       "      <td>8.910000</td>\n",
       "    </tr>\n",
       "    <tr>\n",
       "      <th>75%</th>\n",
       "      <td>14.000000</td>\n",
       "      <td>166.000000</td>\n",
       "      <td>6.662500</td>\n",
       "      <td>55.225000</td>\n",
       "      <td>10.320000</td>\n",
       "    </tr>\n",
       "    <tr>\n",
       "      <th>max</th>\n",
       "      <td>17.000000</td>\n",
       "      <td>171.900000</td>\n",
       "      <td>8.270000</td>\n",
       "      <td>65.900000</td>\n",
       "      <td>13.700000</td>\n",
       "    </tr>\n",
       "  </tbody>\n",
       "</table>\n",
       "</div>"
      ],
      "text/plain": [
       "             year  height_average  height_standard deviation  \\\n",
       "count  624.000000      624.000000                 624.000000   \n",
       "mean    11.000000      145.072917                   6.072420   \n",
       "std      3.744659       20.507207                   0.942226   \n",
       "min      5.000000      110.000000                   4.460000   \n",
       "25%      8.000000      128.000000                   5.350000   \n",
       "50%     11.000000      145.900000                   5.900000   \n",
       "75%     14.000000      166.000000                   6.662500   \n",
       "max     17.000000      171.900000                   8.270000   \n",
       "\n",
       "       body weight _average  body weight _standard deviation  \n",
       "count            624.000000                       624.000000  \n",
       "mean              40.986218                         7.869792  \n",
       "std               14.991854                         2.932388  \n",
       "min               18.900000                         2.300000  \n",
       "25%               27.400000                         5.210000  \n",
       "50%               39.650000                         8.910000  \n",
       "75%               55.225000                        10.320000  \n",
       "max               65.900000                        13.700000  "
      ]
     },
     "execution_count": 147,
     "metadata": {},
     "output_type": "execute_result"
    }
   ],
   "source": [
    "df_male.describe()"
   ]
  },
  {
   "cell_type": "code",
   "execution_count": 148,
   "metadata": {},
   "outputs": [
    {
     "data": {
      "text/html": [
       "<div>\n",
       "<style scoped>\n",
       "    .dataframe tbody tr th:only-of-type {\n",
       "        vertical-align: middle;\n",
       "    }\n",
       "\n",
       "    .dataframe tbody tr th {\n",
       "        vertical-align: top;\n",
       "    }\n",
       "\n",
       "    .dataframe thead th {\n",
       "        text-align: right;\n",
       "    }\n",
       "</style>\n",
       "<table border=\"1\" class=\"dataframe\">\n",
       "  <thead>\n",
       "    <tr style=\"text-align: right;\">\n",
       "      <th></th>\n",
       "      <th>year</th>\n",
       "      <th>height_average_1</th>\n",
       "      <th>height_standard deviation_2</th>\n",
       "      <th>body weight _average_3</th>\n",
       "      <th>body weight _standard deviation_4</th>\n",
       "    </tr>\n",
       "  </thead>\n",
       "  <tbody>\n",
       "    <tr>\n",
       "      <th>count</th>\n",
       "      <td>624.000000</td>\n",
       "      <td>624.000000</td>\n",
       "      <td>624.000000</td>\n",
       "      <td>624.000000</td>\n",
       "      <td>624.000000</td>\n",
       "    </tr>\n",
       "    <tr>\n",
       "      <th>mean</th>\n",
       "      <td>11.000000</td>\n",
       "      <td>141.044872</td>\n",
       "      <td>5.589071</td>\n",
       "      <td>38.188942</td>\n",
       "      <td>6.406394</td>\n",
       "    </tr>\n",
       "    <tr>\n",
       "      <th>std</th>\n",
       "      <td>3.744659</td>\n",
       "      <td>16.618844</td>\n",
       "      <td>0.594624</td>\n",
       "      <td>12.175350</td>\n",
       "      <td>1.908674</td>\n",
       "    </tr>\n",
       "    <tr>\n",
       "      <th>min</th>\n",
       "      <td>5.000000</td>\n",
       "      <td>109.400000</td>\n",
       "      <td>4.420000</td>\n",
       "      <td>18.600000</td>\n",
       "      <td>2.410000</td>\n",
       "    </tr>\n",
       "    <tr>\n",
       "      <th>25%</th>\n",
       "      <td>8.000000</td>\n",
       "      <td>127.475000</td>\n",
       "      <td>5.180000</td>\n",
       "      <td>26.875000</td>\n",
       "      <td>4.780000</td>\n",
       "    </tr>\n",
       "    <tr>\n",
       "      <th>50%</th>\n",
       "      <td>11.000000</td>\n",
       "      <td>147.200000</td>\n",
       "      <td>5.445000</td>\n",
       "      <td>40.000000</td>\n",
       "      <td>7.220000</td>\n",
       "    </tr>\n",
       "    <tr>\n",
       "      <th>75%</th>\n",
       "      <td>14.000000</td>\n",
       "      <td>156.500000</td>\n",
       "      <td>5.930000</td>\n",
       "      <td>50.425000</td>\n",
       "      <td>7.842500</td>\n",
       "    </tr>\n",
       "    <tr>\n",
       "      <th>max</th>\n",
       "      <td>17.000000</td>\n",
       "      <td>159.200000</td>\n",
       "      <td>7.330000</td>\n",
       "      <td>54.600000</td>\n",
       "      <td>9.740000</td>\n",
       "    </tr>\n",
       "  </tbody>\n",
       "</table>\n",
       "</div>"
      ],
      "text/plain": [
       "             year  height_average_1  height_standard deviation_2  \\\n",
       "count  624.000000        624.000000                   624.000000   \n",
       "mean    11.000000        141.044872                     5.589071   \n",
       "std      3.744659         16.618844                     0.594624   \n",
       "min      5.000000        109.400000                     4.420000   \n",
       "25%      8.000000        127.475000                     5.180000   \n",
       "50%     11.000000        147.200000                     5.445000   \n",
       "75%     14.000000        156.500000                     5.930000   \n",
       "max     17.000000        159.200000                     7.330000   \n",
       "\n",
       "       body weight _average_3  body weight _standard deviation_4  \n",
       "count              624.000000                         624.000000  \n",
       "mean                38.188942                           6.406394  \n",
       "std                 12.175350                           1.908674  \n",
       "min                 18.600000                           2.410000  \n",
       "25%                 26.875000                           4.780000  \n",
       "50%                 40.000000                           7.220000  \n",
       "75%                 50.425000                           7.842500  \n",
       "max                 54.600000                           9.740000  "
      ]
     },
     "execution_count": 148,
     "metadata": {},
     "output_type": "execute_result"
    }
   ],
   "source": [
    "df_female.describe()"
   ]
  },
  {
   "cell_type": "code",
   "execution_count": 149,
   "metadata": {},
   "outputs": [],
   "source": [
    "# Creating a gender column so I know what gender they are for when I combine the datasets together\n",
    "df_male['Gender'] = 'Male'\n",
    "df_female['Gender'] = 'Female'"
   ]
  },
  {
   "cell_type": "code",
   "execution_count": 150,
   "metadata": {},
   "outputs": [
    {
     "data": {
      "text/html": [
       "<div>\n",
       "<style scoped>\n",
       "    .dataframe tbody tr th:only-of-type {\n",
       "        vertical-align: middle;\n",
       "    }\n",
       "\n",
       "    .dataframe tbody tr th {\n",
       "        vertical-align: top;\n",
       "    }\n",
       "\n",
       "    .dataframe thead th {\n",
       "        text-align: right;\n",
       "    }\n",
       "</style>\n",
       "<table border=\"1\" class=\"dataframe\">\n",
       "  <thead>\n",
       "    <tr style=\"text-align: right;\">\n",
       "      <th></th>\n",
       "      <th>year</th>\n",
       "      <th>category</th>\n",
       "      <th>height_average</th>\n",
       "      <th>height_standard deviation</th>\n",
       "      <th>body weight _average</th>\n",
       "      <th>body weight _standard deviation</th>\n",
       "      <th>Gender</th>\n",
       "    </tr>\n",
       "  </thead>\n",
       "  <tbody>\n",
       "    <tr>\n",
       "      <th>0</th>\n",
       "      <td>5</td>\n",
       "      <td>national</td>\n",
       "      <td>111.0</td>\n",
       "      <td>4.87</td>\n",
       "      <td>19.3</td>\n",
       "      <td>2.79</td>\n",
       "      <td>Male</td>\n",
       "    </tr>\n",
       "    <tr>\n",
       "      <th>1</th>\n",
       "      <td>5</td>\n",
       "      <td>Hokkaido</td>\n",
       "      <td>111.3</td>\n",
       "      <td>4.81</td>\n",
       "      <td>19.3</td>\n",
       "      <td>2.83</td>\n",
       "      <td>Male</td>\n",
       "    </tr>\n",
       "    <tr>\n",
       "      <th>2</th>\n",
       "      <td>5</td>\n",
       "      <td>Aomori</td>\n",
       "      <td>111.8</td>\n",
       "      <td>4.87</td>\n",
       "      <td>19.9</td>\n",
       "      <td>2.78</td>\n",
       "      <td>Male</td>\n",
       "    </tr>\n",
       "    <tr>\n",
       "      <th>3</th>\n",
       "      <td>5</td>\n",
       "      <td>Iwate</td>\n",
       "      <td>111.0</td>\n",
       "      <td>5.08</td>\n",
       "      <td>19.6</td>\n",
       "      <td>3.02</td>\n",
       "      <td>Male</td>\n",
       "    </tr>\n",
       "    <tr>\n",
       "      <th>4</th>\n",
       "      <td>5</td>\n",
       "      <td>Miyagi</td>\n",
       "      <td>111.3</td>\n",
       "      <td>4.90</td>\n",
       "      <td>19.7</td>\n",
       "      <td>3.04</td>\n",
       "      <td>Male</td>\n",
       "    </tr>\n",
       "  </tbody>\n",
       "</table>\n",
       "</div>"
      ],
      "text/plain": [
       "   year  category  height_average  height_standard deviation  \\\n",
       "0     5  national           111.0                       4.87   \n",
       "1     5  Hokkaido           111.3                       4.81   \n",
       "2     5    Aomori           111.8                       4.87   \n",
       "3     5     Iwate           111.0                       5.08   \n",
       "4     5    Miyagi           111.3                       4.90   \n",
       "\n",
       "   body weight _average  body weight _standard deviation Gender  \n",
       "0                  19.3                             2.79   Male  \n",
       "1                  19.3                             2.83   Male  \n",
       "2                  19.9                             2.78   Male  \n",
       "3                  19.6                             3.02   Male  \n",
       "4                  19.7                             3.04   Male  "
      ]
     },
     "execution_count": 150,
     "metadata": {},
     "output_type": "execute_result"
    }
   ],
   "source": [
    "df_male.head()"
   ]
  },
  {
   "cell_type": "code",
   "execution_count": 151,
   "metadata": {},
   "outputs": [
    {
     "data": {
      "text/html": [
       "<div>\n",
       "<style scoped>\n",
       "    .dataframe tbody tr th:only-of-type {\n",
       "        vertical-align: middle;\n",
       "    }\n",
       "\n",
       "    .dataframe tbody tr th {\n",
       "        vertical-align: top;\n",
       "    }\n",
       "\n",
       "    .dataframe thead th {\n",
       "        text-align: right;\n",
       "    }\n",
       "</style>\n",
       "<table border=\"1\" class=\"dataframe\">\n",
       "  <thead>\n",
       "    <tr style=\"text-align: right;\">\n",
       "      <th></th>\n",
       "      <th>year</th>\n",
       "      <th>category</th>\n",
       "      <th>height_average_1</th>\n",
       "      <th>height_standard deviation_2</th>\n",
       "      <th>body weight _average_3</th>\n",
       "      <th>body weight _standard deviation_4</th>\n",
       "      <th>Gender</th>\n",
       "    </tr>\n",
       "  </thead>\n",
       "  <tbody>\n",
       "    <tr>\n",
       "      <th>0</th>\n",
       "      <td>5</td>\n",
       "      <td>national</td>\n",
       "      <td>110.1</td>\n",
       "      <td>4.86</td>\n",
       "      <td>19.0</td>\n",
       "      <td>2.74</td>\n",
       "      <td>Female</td>\n",
       "    </tr>\n",
       "    <tr>\n",
       "      <th>1</th>\n",
       "      <td>5</td>\n",
       "      <td>Hokkaido</td>\n",
       "      <td>110.1</td>\n",
       "      <td>4.90</td>\n",
       "      <td>18.9</td>\n",
       "      <td>2.98</td>\n",
       "      <td>Female</td>\n",
       "    </tr>\n",
       "    <tr>\n",
       "      <th>2</th>\n",
       "      <td>5</td>\n",
       "      <td>Aomori</td>\n",
       "      <td>111.0</td>\n",
       "      <td>4.95</td>\n",
       "      <td>19.5</td>\n",
       "      <td>2.98</td>\n",
       "      <td>Female</td>\n",
       "    </tr>\n",
       "    <tr>\n",
       "      <th>3</th>\n",
       "      <td>5</td>\n",
       "      <td>Iwate</td>\n",
       "      <td>110.6</td>\n",
       "      <td>4.72</td>\n",
       "      <td>19.3</td>\n",
       "      <td>2.91</td>\n",
       "      <td>Female</td>\n",
       "    </tr>\n",
       "    <tr>\n",
       "      <th>4</th>\n",
       "      <td>5</td>\n",
       "      <td>Miyagi</td>\n",
       "      <td>110.6</td>\n",
       "      <td>4.91</td>\n",
       "      <td>19.5</td>\n",
       "      <td>2.88</td>\n",
       "      <td>Female</td>\n",
       "    </tr>\n",
       "  </tbody>\n",
       "</table>\n",
       "</div>"
      ],
      "text/plain": [
       "   year  category  height_average_1  height_standard deviation_2  \\\n",
       "0     5  national             110.1                         4.86   \n",
       "1     5  Hokkaido             110.1                         4.90   \n",
       "2     5    Aomori             111.0                         4.95   \n",
       "3     5     Iwate             110.6                         4.72   \n",
       "4     5    Miyagi             110.6                         4.91   \n",
       "\n",
       "   body weight _average_3  body weight _standard deviation_4  Gender  \n",
       "0                    19.0                               2.74  Female  \n",
       "1                    18.9                               2.98  Female  \n",
       "2                    19.5                               2.98  Female  \n",
       "3                    19.3                               2.91  Female  \n",
       "4                    19.5                               2.88  Female  "
      ]
     },
     "execution_count": 151,
     "metadata": {},
     "output_type": "execute_result"
    }
   ],
   "source": [
    "df_female.head()"
   ]
  },
  {
   "cell_type": "code",
   "execution_count": 152,
   "metadata": {},
   "outputs": [
    {
     "data": {
      "text/html": [
       "<div>\n",
       "<style scoped>\n",
       "    .dataframe tbody tr th:only-of-type {\n",
       "        vertical-align: middle;\n",
       "    }\n",
       "\n",
       "    .dataframe tbody tr th {\n",
       "        vertical-align: top;\n",
       "    }\n",
       "\n",
       "    .dataframe thead th {\n",
       "        text-align: right;\n",
       "    }\n",
       "</style>\n",
       "<table border=\"1\" class=\"dataframe\">\n",
       "  <thead>\n",
       "    <tr style=\"text-align: right;\">\n",
       "      <th></th>\n",
       "      <th>year</th>\n",
       "      <th>height_average</th>\n",
       "      <th>height_standard deviation</th>\n",
       "      <th>body weight _average</th>\n",
       "      <th>body weight _standard deviation</th>\n",
       "    </tr>\n",
       "  </thead>\n",
       "  <tbody>\n",
       "    <tr>\n",
       "      <th>count</th>\n",
       "      <td>624.000000</td>\n",
       "      <td>624.000000</td>\n",
       "      <td>624.000000</td>\n",
       "      <td>624.000000</td>\n",
       "      <td>624.000000</td>\n",
       "    </tr>\n",
       "    <tr>\n",
       "      <th>mean</th>\n",
       "      <td>11.000000</td>\n",
       "      <td>145.072917</td>\n",
       "      <td>6.072420</td>\n",
       "      <td>40.986218</td>\n",
       "      <td>7.869792</td>\n",
       "    </tr>\n",
       "    <tr>\n",
       "      <th>std</th>\n",
       "      <td>3.744659</td>\n",
       "      <td>20.507207</td>\n",
       "      <td>0.942226</td>\n",
       "      <td>14.991854</td>\n",
       "      <td>2.932388</td>\n",
       "    </tr>\n",
       "    <tr>\n",
       "      <th>min</th>\n",
       "      <td>5.000000</td>\n",
       "      <td>110.000000</td>\n",
       "      <td>4.460000</td>\n",
       "      <td>18.900000</td>\n",
       "      <td>2.300000</td>\n",
       "    </tr>\n",
       "    <tr>\n",
       "      <th>25%</th>\n",
       "      <td>8.000000</td>\n",
       "      <td>128.000000</td>\n",
       "      <td>5.350000</td>\n",
       "      <td>27.400000</td>\n",
       "      <td>5.210000</td>\n",
       "    </tr>\n",
       "    <tr>\n",
       "      <th>50%</th>\n",
       "      <td>11.000000</td>\n",
       "      <td>145.900000</td>\n",
       "      <td>5.900000</td>\n",
       "      <td>39.650000</td>\n",
       "      <td>8.910000</td>\n",
       "    </tr>\n",
       "    <tr>\n",
       "      <th>75%</th>\n",
       "      <td>14.000000</td>\n",
       "      <td>166.000000</td>\n",
       "      <td>6.662500</td>\n",
       "      <td>55.225000</td>\n",
       "      <td>10.320000</td>\n",
       "    </tr>\n",
       "    <tr>\n",
       "      <th>max</th>\n",
       "      <td>17.000000</td>\n",
       "      <td>171.900000</td>\n",
       "      <td>8.270000</td>\n",
       "      <td>65.900000</td>\n",
       "      <td>13.700000</td>\n",
       "    </tr>\n",
       "  </tbody>\n",
       "</table>\n",
       "</div>"
      ],
      "text/plain": [
       "             year  height_average  height_standard deviation  \\\n",
       "count  624.000000      624.000000                 624.000000   \n",
       "mean    11.000000      145.072917                   6.072420   \n",
       "std      3.744659       20.507207                   0.942226   \n",
       "min      5.000000      110.000000                   4.460000   \n",
       "25%      8.000000      128.000000                   5.350000   \n",
       "50%     11.000000      145.900000                   5.900000   \n",
       "75%     14.000000      166.000000                   6.662500   \n",
       "max     17.000000      171.900000                   8.270000   \n",
       "\n",
       "       body weight _average  body weight _standard deviation  \n",
       "count            624.000000                       624.000000  \n",
       "mean              40.986218                         7.869792  \n",
       "std               14.991854                         2.932388  \n",
       "min               18.900000                         2.300000  \n",
       "25%               27.400000                         5.210000  \n",
       "50%               39.650000                         8.910000  \n",
       "75%               55.225000                        10.320000  \n",
       "max               65.900000                        13.700000  "
      ]
     },
     "execution_count": 152,
     "metadata": {},
     "output_type": "execute_result"
    }
   ],
   "source": [
    "df_male.describe()"
   ]
  },
  {
   "cell_type": "code",
   "execution_count": 153,
   "metadata": {},
   "outputs": [
    {
     "data": {
      "text/html": [
       "<div>\n",
       "<style scoped>\n",
       "    .dataframe tbody tr th:only-of-type {\n",
       "        vertical-align: middle;\n",
       "    }\n",
       "\n",
       "    .dataframe tbody tr th {\n",
       "        vertical-align: top;\n",
       "    }\n",
       "\n",
       "    .dataframe thead th {\n",
       "        text-align: right;\n",
       "    }\n",
       "</style>\n",
       "<table border=\"1\" class=\"dataframe\">\n",
       "  <thead>\n",
       "    <tr style=\"text-align: right;\">\n",
       "      <th></th>\n",
       "      <th>year</th>\n",
       "      <th>height_average_1</th>\n",
       "      <th>height_standard deviation_2</th>\n",
       "      <th>body weight _average_3</th>\n",
       "      <th>body weight _standard deviation_4</th>\n",
       "    </tr>\n",
       "  </thead>\n",
       "  <tbody>\n",
       "    <tr>\n",
       "      <th>count</th>\n",
       "      <td>624.000000</td>\n",
       "      <td>624.000000</td>\n",
       "      <td>624.000000</td>\n",
       "      <td>624.000000</td>\n",
       "      <td>624.000000</td>\n",
       "    </tr>\n",
       "    <tr>\n",
       "      <th>mean</th>\n",
       "      <td>11.000000</td>\n",
       "      <td>141.044872</td>\n",
       "      <td>5.589071</td>\n",
       "      <td>38.188942</td>\n",
       "      <td>6.406394</td>\n",
       "    </tr>\n",
       "    <tr>\n",
       "      <th>std</th>\n",
       "      <td>3.744659</td>\n",
       "      <td>16.618844</td>\n",
       "      <td>0.594624</td>\n",
       "      <td>12.175350</td>\n",
       "      <td>1.908674</td>\n",
       "    </tr>\n",
       "    <tr>\n",
       "      <th>min</th>\n",
       "      <td>5.000000</td>\n",
       "      <td>109.400000</td>\n",
       "      <td>4.420000</td>\n",
       "      <td>18.600000</td>\n",
       "      <td>2.410000</td>\n",
       "    </tr>\n",
       "    <tr>\n",
       "      <th>25%</th>\n",
       "      <td>8.000000</td>\n",
       "      <td>127.475000</td>\n",
       "      <td>5.180000</td>\n",
       "      <td>26.875000</td>\n",
       "      <td>4.780000</td>\n",
       "    </tr>\n",
       "    <tr>\n",
       "      <th>50%</th>\n",
       "      <td>11.000000</td>\n",
       "      <td>147.200000</td>\n",
       "      <td>5.445000</td>\n",
       "      <td>40.000000</td>\n",
       "      <td>7.220000</td>\n",
       "    </tr>\n",
       "    <tr>\n",
       "      <th>75%</th>\n",
       "      <td>14.000000</td>\n",
       "      <td>156.500000</td>\n",
       "      <td>5.930000</td>\n",
       "      <td>50.425000</td>\n",
       "      <td>7.842500</td>\n",
       "    </tr>\n",
       "    <tr>\n",
       "      <th>max</th>\n",
       "      <td>17.000000</td>\n",
       "      <td>159.200000</td>\n",
       "      <td>7.330000</td>\n",
       "      <td>54.600000</td>\n",
       "      <td>9.740000</td>\n",
       "    </tr>\n",
       "  </tbody>\n",
       "</table>\n",
       "</div>"
      ],
      "text/plain": [
       "             year  height_average_1  height_standard deviation_2  \\\n",
       "count  624.000000        624.000000                   624.000000   \n",
       "mean    11.000000        141.044872                     5.589071   \n",
       "std      3.744659         16.618844                     0.594624   \n",
       "min      5.000000        109.400000                     4.420000   \n",
       "25%      8.000000        127.475000                     5.180000   \n",
       "50%     11.000000        147.200000                     5.445000   \n",
       "75%     14.000000        156.500000                     5.930000   \n",
       "max     17.000000        159.200000                     7.330000   \n",
       "\n",
       "       body weight _average_3  body weight _standard deviation_4  \n",
       "count              624.000000                         624.000000  \n",
       "mean                38.188942                           6.406394  \n",
       "std                 12.175350                           1.908674  \n",
       "min                 18.600000                           2.410000  \n",
       "25%                 26.875000                           4.780000  \n",
       "50%                 40.000000                           7.220000  \n",
       "75%                 50.425000                           7.842500  \n",
       "max                 54.600000                           9.740000  "
      ]
     },
     "execution_count": 153,
     "metadata": {},
     "output_type": "execute_result"
    }
   ],
   "source": [
    "df_female.describe()"
   ]
  },
  {
   "cell_type": "code",
   "execution_count": 154,
   "metadata": {},
   "outputs": [],
   "source": [
    "# Renaming the columns for the female dataset to match the male dataset\n",
    "df_female = df_female.rename(columns = {'height_average_1':'height_average', \n",
    "                                        'height_standard deviation_2': 'height_standard deviation', \n",
    "                                        'body weight _average_3': 'body weight _average',\n",
    "                                        'body weight _standard deviation_4': 'body weight _standard deviation'})"
   ]
  },
  {
   "cell_type": "code",
   "execution_count": 155,
   "metadata": {},
   "outputs": [
    {
     "data": {
      "text/html": [
       "<div>\n",
       "<style scoped>\n",
       "    .dataframe tbody tr th:only-of-type {\n",
       "        vertical-align: middle;\n",
       "    }\n",
       "\n",
       "    .dataframe tbody tr th {\n",
       "        vertical-align: top;\n",
       "    }\n",
       "\n",
       "    .dataframe thead th {\n",
       "        text-align: right;\n",
       "    }\n",
       "</style>\n",
       "<table border=\"1\" class=\"dataframe\">\n",
       "  <thead>\n",
       "    <tr style=\"text-align: right;\">\n",
       "      <th></th>\n",
       "      <th>year</th>\n",
       "      <th>category</th>\n",
       "      <th>height_average</th>\n",
       "      <th>height_standard deviation</th>\n",
       "      <th>body weight _average</th>\n",
       "      <th>body weight _standard deviation</th>\n",
       "      <th>Gender</th>\n",
       "    </tr>\n",
       "  </thead>\n",
       "  <tbody>\n",
       "    <tr>\n",
       "      <th>0</th>\n",
       "      <td>5</td>\n",
       "      <td>national</td>\n",
       "      <td>110.1</td>\n",
       "      <td>4.86</td>\n",
       "      <td>19.0</td>\n",
       "      <td>2.74</td>\n",
       "      <td>Female</td>\n",
       "    </tr>\n",
       "    <tr>\n",
       "      <th>1</th>\n",
       "      <td>5</td>\n",
       "      <td>Hokkaido</td>\n",
       "      <td>110.1</td>\n",
       "      <td>4.90</td>\n",
       "      <td>18.9</td>\n",
       "      <td>2.98</td>\n",
       "      <td>Female</td>\n",
       "    </tr>\n",
       "    <tr>\n",
       "      <th>2</th>\n",
       "      <td>5</td>\n",
       "      <td>Aomori</td>\n",
       "      <td>111.0</td>\n",
       "      <td>4.95</td>\n",
       "      <td>19.5</td>\n",
       "      <td>2.98</td>\n",
       "      <td>Female</td>\n",
       "    </tr>\n",
       "    <tr>\n",
       "      <th>3</th>\n",
       "      <td>5</td>\n",
       "      <td>Iwate</td>\n",
       "      <td>110.6</td>\n",
       "      <td>4.72</td>\n",
       "      <td>19.3</td>\n",
       "      <td>2.91</td>\n",
       "      <td>Female</td>\n",
       "    </tr>\n",
       "    <tr>\n",
       "      <th>4</th>\n",
       "      <td>5</td>\n",
       "      <td>Miyagi</td>\n",
       "      <td>110.6</td>\n",
       "      <td>4.91</td>\n",
       "      <td>19.5</td>\n",
       "      <td>2.88</td>\n",
       "      <td>Female</td>\n",
       "    </tr>\n",
       "  </tbody>\n",
       "</table>\n",
       "</div>"
      ],
      "text/plain": [
       "   year  category  height_average  height_standard deviation  \\\n",
       "0     5  national           110.1                       4.86   \n",
       "1     5  Hokkaido           110.1                       4.90   \n",
       "2     5    Aomori           111.0                       4.95   \n",
       "3     5     Iwate           110.6                       4.72   \n",
       "4     5    Miyagi           110.6                       4.91   \n",
       "\n",
       "   body weight _average  body weight _standard deviation  Gender  \n",
       "0                  19.0                             2.74  Female  \n",
       "1                  18.9                             2.98  Female  \n",
       "2                  19.5                             2.98  Female  \n",
       "3                  19.3                             2.91  Female  \n",
       "4                  19.5                             2.88  Female  "
      ]
     },
     "execution_count": 155,
     "metadata": {},
     "output_type": "execute_result"
    }
   ],
   "source": [
    "df_female.head()"
   ]
  },
  {
   "cell_type": "code",
   "execution_count": 156,
   "metadata": {},
   "outputs": [],
   "source": [
    "# Combining the datasets together\n",
    "df_all = pd.concat([df_male, df_female], axis = 0)"
   ]
  },
  {
   "cell_type": "code",
   "execution_count": 157,
   "metadata": {},
   "outputs": [
    {
     "data": {
      "text/html": [
       "<div>\n",
       "<style scoped>\n",
       "    .dataframe tbody tr th:only-of-type {\n",
       "        vertical-align: middle;\n",
       "    }\n",
       "\n",
       "    .dataframe tbody tr th {\n",
       "        vertical-align: top;\n",
       "    }\n",
       "\n",
       "    .dataframe thead th {\n",
       "        text-align: right;\n",
       "    }\n",
       "</style>\n",
       "<table border=\"1\" class=\"dataframe\">\n",
       "  <thead>\n",
       "    <tr style=\"text-align: right;\">\n",
       "      <th></th>\n",
       "      <th>year</th>\n",
       "      <th>category</th>\n",
       "      <th>height_average</th>\n",
       "      <th>height_standard deviation</th>\n",
       "      <th>body weight _average</th>\n",
       "      <th>body weight _standard deviation</th>\n",
       "      <th>Gender</th>\n",
       "    </tr>\n",
       "  </thead>\n",
       "  <tbody>\n",
       "    <tr>\n",
       "      <th>0</th>\n",
       "      <td>5</td>\n",
       "      <td>national</td>\n",
       "      <td>111.0</td>\n",
       "      <td>4.87</td>\n",
       "      <td>19.3</td>\n",
       "      <td>2.79</td>\n",
       "      <td>Male</td>\n",
       "    </tr>\n",
       "    <tr>\n",
       "      <th>1</th>\n",
       "      <td>5</td>\n",
       "      <td>Hokkaido</td>\n",
       "      <td>111.3</td>\n",
       "      <td>4.81</td>\n",
       "      <td>19.3</td>\n",
       "      <td>2.83</td>\n",
       "      <td>Male</td>\n",
       "    </tr>\n",
       "    <tr>\n",
       "      <th>2</th>\n",
       "      <td>5</td>\n",
       "      <td>Aomori</td>\n",
       "      <td>111.8</td>\n",
       "      <td>4.87</td>\n",
       "      <td>19.9</td>\n",
       "      <td>2.78</td>\n",
       "      <td>Male</td>\n",
       "    </tr>\n",
       "    <tr>\n",
       "      <th>3</th>\n",
       "      <td>5</td>\n",
       "      <td>Iwate</td>\n",
       "      <td>111.0</td>\n",
       "      <td>5.08</td>\n",
       "      <td>19.6</td>\n",
       "      <td>3.02</td>\n",
       "      <td>Male</td>\n",
       "    </tr>\n",
       "    <tr>\n",
       "      <th>4</th>\n",
       "      <td>5</td>\n",
       "      <td>Miyagi</td>\n",
       "      <td>111.3</td>\n",
       "      <td>4.90</td>\n",
       "      <td>19.7</td>\n",
       "      <td>3.04</td>\n",
       "      <td>Male</td>\n",
       "    </tr>\n",
       "  </tbody>\n",
       "</table>\n",
       "</div>"
      ],
      "text/plain": [
       "   year  category  height_average  height_standard deviation  \\\n",
       "0     5  national           111.0                       4.87   \n",
       "1     5  Hokkaido           111.3                       4.81   \n",
       "2     5    Aomori           111.8                       4.87   \n",
       "3     5     Iwate           111.0                       5.08   \n",
       "4     5    Miyagi           111.3                       4.90   \n",
       "\n",
       "   body weight _average  body weight _standard deviation Gender  \n",
       "0                  19.3                             2.79   Male  \n",
       "1                  19.3                             2.83   Male  \n",
       "2                  19.9                             2.78   Male  \n",
       "3                  19.6                             3.02   Male  \n",
       "4                  19.7                             3.04   Male  "
      ]
     },
     "execution_count": 157,
     "metadata": {},
     "output_type": "execute_result"
    }
   ],
   "source": [
    "df_all.head()"
   ]
  },
  {
   "cell_type": "code",
   "execution_count": 158,
   "metadata": {},
   "outputs": [
    {
     "data": {
      "text/plain": [
       "year                                 int64\n",
       "category                            object\n",
       "height_average                     float64\n",
       "height_standard deviation          float64\n",
       "body weight _average               float64\n",
       "body weight _standard deviation    float64\n",
       "Gender                              object\n",
       "dtype: object"
      ]
     },
     "execution_count": 158,
     "metadata": {},
     "output_type": "execute_result"
    }
   ],
   "source": [
    "df_all.dtypes"
   ]
  },
  {
   "cell_type": "code",
   "execution_count": 159,
   "metadata": {},
   "outputs": [
    {
     "data": {
      "text/plain": [
       "year                               0\n",
       "category                           0\n",
       "height_average                     0\n",
       "height_standard deviation          0\n",
       "body weight _average               0\n",
       "body weight _standard deviation    0\n",
       "Gender                             0\n",
       "dtype: int64"
      ]
     },
     "execution_count": 159,
     "metadata": {},
     "output_type": "execute_result"
    }
   ],
   "source": [
    "df_all.isnull().sum()"
   ]
  },
  {
   "cell_type": "code",
   "execution_count": 160,
   "metadata": {},
   "outputs": [],
   "source": [
    "# Renaming cateogry column to prefecture so its easier to understand what this column is\n",
    "\n",
    "df_all.rename(columns={'category':'prefecture', 'body weight _average':'body_weight', 'height_average':'height'}, inplace = True)"
   ]
  },
  {
   "cell_type": "code",
   "execution_count": 161,
   "metadata": {},
   "outputs": [],
   "source": [
    "# Making the gender column numeric\n",
    "df_all = pd.get_dummies(df_all, columns = ['Gender'], dtype = 'int')"
   ]
  },
  {
   "cell_type": "code",
   "execution_count": 162,
   "metadata": {},
   "outputs": [
    {
     "data": {
      "text/html": [
       "<div>\n",
       "<style scoped>\n",
       "    .dataframe tbody tr th:only-of-type {\n",
       "        vertical-align: middle;\n",
       "    }\n",
       "\n",
       "    .dataframe tbody tr th {\n",
       "        vertical-align: top;\n",
       "    }\n",
       "\n",
       "    .dataframe thead th {\n",
       "        text-align: right;\n",
       "    }\n",
       "</style>\n",
       "<table border=\"1\" class=\"dataframe\">\n",
       "  <thead>\n",
       "    <tr style=\"text-align: right;\">\n",
       "      <th></th>\n",
       "      <th>year</th>\n",
       "      <th>prefecture</th>\n",
       "      <th>height</th>\n",
       "      <th>height_standard deviation</th>\n",
       "      <th>body_weight</th>\n",
       "      <th>body weight _standard deviation</th>\n",
       "      <th>Gender_Female</th>\n",
       "      <th>Gender_Male</th>\n",
       "    </tr>\n",
       "  </thead>\n",
       "  <tbody>\n",
       "    <tr>\n",
       "      <th>0</th>\n",
       "      <td>5</td>\n",
       "      <td>national</td>\n",
       "      <td>111.0</td>\n",
       "      <td>4.87</td>\n",
       "      <td>19.3</td>\n",
       "      <td>2.79</td>\n",
       "      <td>0</td>\n",
       "      <td>1</td>\n",
       "    </tr>\n",
       "    <tr>\n",
       "      <th>1</th>\n",
       "      <td>5</td>\n",
       "      <td>Hokkaido</td>\n",
       "      <td>111.3</td>\n",
       "      <td>4.81</td>\n",
       "      <td>19.3</td>\n",
       "      <td>2.83</td>\n",
       "      <td>0</td>\n",
       "      <td>1</td>\n",
       "    </tr>\n",
       "    <tr>\n",
       "      <th>2</th>\n",
       "      <td>5</td>\n",
       "      <td>Aomori</td>\n",
       "      <td>111.8</td>\n",
       "      <td>4.87</td>\n",
       "      <td>19.9</td>\n",
       "      <td>2.78</td>\n",
       "      <td>0</td>\n",
       "      <td>1</td>\n",
       "    </tr>\n",
       "    <tr>\n",
       "      <th>3</th>\n",
       "      <td>5</td>\n",
       "      <td>Iwate</td>\n",
       "      <td>111.0</td>\n",
       "      <td>5.08</td>\n",
       "      <td>19.6</td>\n",
       "      <td>3.02</td>\n",
       "      <td>0</td>\n",
       "      <td>1</td>\n",
       "    </tr>\n",
       "    <tr>\n",
       "      <th>4</th>\n",
       "      <td>5</td>\n",
       "      <td>Miyagi</td>\n",
       "      <td>111.3</td>\n",
       "      <td>4.90</td>\n",
       "      <td>19.7</td>\n",
       "      <td>3.04</td>\n",
       "      <td>0</td>\n",
       "      <td>1</td>\n",
       "    </tr>\n",
       "  </tbody>\n",
       "</table>\n",
       "</div>"
      ],
      "text/plain": [
       "   year prefecture  height  height_standard deviation  body_weight  \\\n",
       "0     5   national   111.0                       4.87         19.3   \n",
       "1     5   Hokkaido   111.3                       4.81         19.3   \n",
       "2     5     Aomori   111.8                       4.87         19.9   \n",
       "3     5      Iwate   111.0                       5.08         19.6   \n",
       "4     5     Miyagi   111.3                       4.90         19.7   \n",
       "\n",
       "   body weight _standard deviation  Gender_Female  Gender_Male  \n",
       "0                             2.79              0            1  \n",
       "1                             2.83              0            1  \n",
       "2                             2.78              0            1  \n",
       "3                             3.02              0            1  \n",
       "4                             3.04              0            1  "
      ]
     },
     "execution_count": 162,
     "metadata": {},
     "output_type": "execute_result"
    }
   ],
   "source": [
    "df_all.head()"
   ]
  },
  {
   "cell_type": "markdown",
   "metadata": {},
   "source": [
    "I want to start off with a simple regression model using only the variables age, body weight, and gender."
   ]
  },
  {
   "cell_type": "code",
   "execution_count": 163,
   "metadata": {},
   "outputs": [],
   "source": [
    "from sklearn.model_selection import train_test_split\n",
    "\n",
    "# split data between X and y\n",
    "# removing any columns I felt were not needed for the regression most notably the standard deviations of the metrics I am already using\n",
    "\n",
    "X = df_all.drop(['height', 'height_standard deviation', 'body weight _standard deviation', 'prefecture'], axis = 1)\n",
    "y = df_all['height']"
   ]
  },
  {
   "cell_type": "code",
   "execution_count": 164,
   "metadata": {},
   "outputs": [
    {
     "data": {
      "text/html": [
       "<div>\n",
       "<style scoped>\n",
       "    .dataframe tbody tr th:only-of-type {\n",
       "        vertical-align: middle;\n",
       "    }\n",
       "\n",
       "    .dataframe tbody tr th {\n",
       "        vertical-align: top;\n",
       "    }\n",
       "\n",
       "    .dataframe thead th {\n",
       "        text-align: right;\n",
       "    }\n",
       "</style>\n",
       "<table border=\"1\" class=\"dataframe\">\n",
       "  <thead>\n",
       "    <tr style=\"text-align: right;\">\n",
       "      <th></th>\n",
       "      <th>year</th>\n",
       "      <th>body_weight</th>\n",
       "      <th>Gender_Female</th>\n",
       "      <th>Gender_Male</th>\n",
       "    </tr>\n",
       "  </thead>\n",
       "  <tbody>\n",
       "    <tr>\n",
       "      <th>0</th>\n",
       "      <td>5</td>\n",
       "      <td>19.3</td>\n",
       "      <td>0</td>\n",
       "      <td>1</td>\n",
       "    </tr>\n",
       "    <tr>\n",
       "      <th>1</th>\n",
       "      <td>5</td>\n",
       "      <td>19.3</td>\n",
       "      <td>0</td>\n",
       "      <td>1</td>\n",
       "    </tr>\n",
       "    <tr>\n",
       "      <th>2</th>\n",
       "      <td>5</td>\n",
       "      <td>19.9</td>\n",
       "      <td>0</td>\n",
       "      <td>1</td>\n",
       "    </tr>\n",
       "    <tr>\n",
       "      <th>3</th>\n",
       "      <td>5</td>\n",
       "      <td>19.6</td>\n",
       "      <td>0</td>\n",
       "      <td>1</td>\n",
       "    </tr>\n",
       "    <tr>\n",
       "      <th>4</th>\n",
       "      <td>5</td>\n",
       "      <td>19.7</td>\n",
       "      <td>0</td>\n",
       "      <td>1</td>\n",
       "    </tr>\n",
       "  </tbody>\n",
       "</table>\n",
       "</div>"
      ],
      "text/plain": [
       "   year  body_weight  Gender_Female  Gender_Male\n",
       "0     5         19.3              0            1\n",
       "1     5         19.3              0            1\n",
       "2     5         19.9              0            1\n",
       "3     5         19.6              0            1\n",
       "4     5         19.7              0            1"
      ]
     },
     "execution_count": 164,
     "metadata": {},
     "output_type": "execute_result"
    }
   ],
   "source": [
    "X.head()"
   ]
  },
  {
   "cell_type": "code",
   "execution_count": 165,
   "metadata": {},
   "outputs": [
    {
     "data": {
      "text/plain": [
       "0    111.0\n",
       "1    111.3\n",
       "2    111.8\n",
       "3    111.0\n",
       "4    111.3\n",
       "Name: height, dtype: float64"
      ]
     },
     "execution_count": 165,
     "metadata": {},
     "output_type": "execute_result"
    }
   ],
   "source": [
    "y.head()"
   ]
  },
  {
   "cell_type": "code",
   "execution_count": 166,
   "metadata": {},
   "outputs": [
    {
     "data": {
      "text/plain": [
       "((1248, 4), (1248,))"
      ]
     },
     "execution_count": 166,
     "metadata": {},
     "output_type": "execute_result"
    }
   ],
   "source": [
    "X.shape, y.shape"
   ]
  },
  {
   "cell_type": "code",
   "execution_count": 167,
   "metadata": {},
   "outputs": [],
   "source": [
    "# Split data into training and test datasets\n",
    "X_train, X_test, y_train, y_test = train_test_split(X, y, test_size = 0.2, random_state = 42)"
   ]
  },
  {
   "cell_type": "code",
   "execution_count": 168,
   "metadata": {},
   "outputs": [
    {
     "name": "stdout",
     "output_type": "stream",
     "text": [
      "Training set shape:  (998, 4) (998,)\n",
      "Testing set shape:  (250, 4) (250,)\n"
     ]
    }
   ],
   "source": [
    "# Getting a visual on the split\n",
    "print('Training set shape: ', X_train.shape, y_train.shape)\n",
    "print('Testing set shape: ', X_test.shape, y_test.shape)"
   ]
  },
  {
   "cell_type": "markdown",
   "metadata": {},
   "source": [
    "### Making Regression Model"
   ]
  },
  {
   "cell_type": "code",
   "execution_count": 169,
   "metadata": {},
   "outputs": [],
   "source": [
    "from sklearn import linear_model"
   ]
  },
  {
   "cell_type": "code",
   "execution_count": 170,
   "metadata": {},
   "outputs": [],
   "source": [
    "# Creating the linear regression model\n",
    "lr = linear_model.LinearRegression()"
   ]
  },
  {
   "cell_type": "code",
   "execution_count": 171,
   "metadata": {},
   "outputs": [
    {
     "data": {
      "text/html": [
       "<style>#sk-container-id-5 {color: black;}#sk-container-id-5 pre{padding: 0;}#sk-container-id-5 div.sk-toggleable {background-color: white;}#sk-container-id-5 label.sk-toggleable__label {cursor: pointer;display: block;width: 100%;margin-bottom: 0;padding: 0.3em;box-sizing: border-box;text-align: center;}#sk-container-id-5 label.sk-toggleable__label-arrow:before {content: \"▸\";float: left;margin-right: 0.25em;color: #696969;}#sk-container-id-5 label.sk-toggleable__label-arrow:hover:before {color: black;}#sk-container-id-5 div.sk-estimator:hover label.sk-toggleable__label-arrow:before {color: black;}#sk-container-id-5 div.sk-toggleable__content {max-height: 0;max-width: 0;overflow: hidden;text-align: left;background-color: #f0f8ff;}#sk-container-id-5 div.sk-toggleable__content pre {margin: 0.2em;color: black;border-radius: 0.25em;background-color: #f0f8ff;}#sk-container-id-5 input.sk-toggleable__control:checked~div.sk-toggleable__content {max-height: 200px;max-width: 100%;overflow: auto;}#sk-container-id-5 input.sk-toggleable__control:checked~label.sk-toggleable__label-arrow:before {content: \"▾\";}#sk-container-id-5 div.sk-estimator input.sk-toggleable__control:checked~label.sk-toggleable__label {background-color: #d4ebff;}#sk-container-id-5 div.sk-label input.sk-toggleable__control:checked~label.sk-toggleable__label {background-color: #d4ebff;}#sk-container-id-5 input.sk-hidden--visually {border: 0;clip: rect(1px 1px 1px 1px);clip: rect(1px, 1px, 1px, 1px);height: 1px;margin: -1px;overflow: hidden;padding: 0;position: absolute;width: 1px;}#sk-container-id-5 div.sk-estimator {font-family: monospace;background-color: #f0f8ff;border: 1px dotted black;border-radius: 0.25em;box-sizing: border-box;margin-bottom: 0.5em;}#sk-container-id-5 div.sk-estimator:hover {background-color: #d4ebff;}#sk-container-id-5 div.sk-parallel-item::after {content: \"\";width: 100%;border-bottom: 1px solid gray;flex-grow: 1;}#sk-container-id-5 div.sk-label:hover label.sk-toggleable__label {background-color: #d4ebff;}#sk-container-id-5 div.sk-serial::before {content: \"\";position: absolute;border-left: 1px solid gray;box-sizing: border-box;top: 0;bottom: 0;left: 50%;z-index: 0;}#sk-container-id-5 div.sk-serial {display: flex;flex-direction: column;align-items: center;background-color: white;padding-right: 0.2em;padding-left: 0.2em;position: relative;}#sk-container-id-5 div.sk-item {position: relative;z-index: 1;}#sk-container-id-5 div.sk-parallel {display: flex;align-items: stretch;justify-content: center;background-color: white;position: relative;}#sk-container-id-5 div.sk-item::before, #sk-container-id-5 div.sk-parallel-item::before {content: \"\";position: absolute;border-left: 1px solid gray;box-sizing: border-box;top: 0;bottom: 0;left: 50%;z-index: -1;}#sk-container-id-5 div.sk-parallel-item {display: flex;flex-direction: column;z-index: 1;position: relative;background-color: white;}#sk-container-id-5 div.sk-parallel-item:first-child::after {align-self: flex-end;width: 50%;}#sk-container-id-5 div.sk-parallel-item:last-child::after {align-self: flex-start;width: 50%;}#sk-container-id-5 div.sk-parallel-item:only-child::after {width: 0;}#sk-container-id-5 div.sk-dashed-wrapped {border: 1px dashed gray;margin: 0 0.4em 0.5em 0.4em;box-sizing: border-box;padding-bottom: 0.4em;background-color: white;}#sk-container-id-5 div.sk-label label {font-family: monospace;font-weight: bold;display: inline-block;line-height: 1.2em;}#sk-container-id-5 div.sk-label-container {text-align: center;}#sk-container-id-5 div.sk-container {/* jupyter's `normalize.less` sets `[hidden] { display: none; }` but bootstrap.min.css set `[hidden] { display: none !important; }` so we also need the `!important` here to be able to override the default hidden behavior on the sphinx rendered scikit-learn.org. See: https://github.com/scikit-learn/scikit-learn/issues/21755 */display: inline-block !important;position: relative;}#sk-container-id-5 div.sk-text-repr-fallback {display: none;}</style><div id=\"sk-container-id-5\" class=\"sk-top-container\"><div class=\"sk-text-repr-fallback\"><pre>LinearRegression()</pre><b>In a Jupyter environment, please rerun this cell to show the HTML representation or trust the notebook. <br />On GitHub, the HTML representation is unable to render, please try loading this page with nbviewer.org.</b></div><div class=\"sk-container\" hidden><div class=\"sk-item\"><div class=\"sk-estimator sk-toggleable\"><input class=\"sk-toggleable__control sk-hidden--visually\" id=\"sk-estimator-id-5\" type=\"checkbox\" checked><label for=\"sk-estimator-id-5\" class=\"sk-toggleable__label sk-toggleable__label-arrow\">LinearRegression</label><div class=\"sk-toggleable__content\"><pre>LinearRegression()</pre></div></div></div></div></div>"
      ],
      "text/plain": [
       "LinearRegression()"
      ]
     },
     "execution_count": 171,
     "metadata": {},
     "output_type": "execute_result"
    }
   ],
   "source": [
    "# Trains the data on the training set\n",
    "# Takes the data and tries to fit it into the line\n",
    "lr.fit(X_train, y_train)"
   ]
  },
  {
   "cell_type": "code",
   "execution_count": 172,
   "metadata": {},
   "outputs": [],
   "source": [
    "# Predict on the testing set\n",
    "y_pred = lr.predict(X_test)"
   ]
  },
  {
   "cell_type": "code",
   "execution_count": 173,
   "metadata": {},
   "outputs": [
    {
     "data": {
      "text/plain": [
       "array([118.85815565, 137.68465104, 137.24656   , 138.27055628,\n",
       "       143.12321048, 164.69062957, 136.81025284, 118.27581814,\n",
       "       115.9056798 , 141.95318385, 160.92570959, 115.61183524,\n",
       "       131.07963271, 132.54172003, 144.4356997 , 157.06339884,\n",
       "       153.55688671, 160.37524104, 121.08226364, 158.36446906,\n",
       "       149.87247527, 115.17374421, 157.97144987, 118.27403427,\n",
       "       158.52370228, 173.55340872, 133.70996278, 116.34198696,\n",
       "       160.84698491, 148.99629321, 174.72165148, 125.20476611,\n",
       "       131.66553796, 164.54459923, 159.53271181, 172.02579962,\n",
       "       157.20942919, 146.33587805, 150.89647155, 126.95891411,\n",
       "       143.41348729, 154.43306877, 150.31235017, 149.28835389,\n",
       "       153.26482602, 115.4658049 , 175.4518032 , 157.50148987,\n",
       "       126.37300887, 171.18327038, 141.51509282, 160.6336489 ,\n",
       "       118.42006461, 119.29803055, 135.78625656, 136.22613146,\n",
       "       132.83199684, 121.52035467, 114.88168352, 115.31977455,\n",
       "       175.59783354, 118.42184848, 119.00596986, 150.16453596,\n",
       "       130.93360237, 144.14363901, 143.56130151, 126.22876239,\n",
       "       157.38732849, 118.1297878 , 126.37300887, 118.56609496,\n",
       "       121.81419923, 158.07240837, 174.68799864, 145.02160495,\n",
       "       175.59783354, 143.99760867, 119.00418599, 172.23913563,\n",
       "       126.66506955, 121.66638502, 116.19774049, 121.66638502,\n",
       "       141.224816  , 161.39745345, 115.17552808, 158.99366228,\n",
       "       148.85204673, 156.62530781, 122.54435095, 118.56787883,\n",
       "       121.52035467, 118.27403427, 173.37372555, 123.71259371,\n",
       "       157.79355056, 159.67874215, 170.30708832, 131.37347727,\n",
       "       141.51687669, 143.8533622 , 144.58351392, 154.87115981,\n",
       "       178.95653146, 122.25229027, 171.03724004, 118.12800392,\n",
       "       130.78757202, 158.4095409 , 126.37479274, 115.17374421,\n",
       "       172.93563451, 149.28835389, 130.7893559 , 159.67874215,\n",
       "       151.0425019 , 119.59009124, 119.00596986, 165.12872061,\n",
       "       115.32155842, 115.17374421, 126.95891411, 118.56609496,\n",
       "       122.6903813 , 119.59009124, 160.2292107 , 150.45659665,\n",
       "       115.02771386, 156.65717677, 150.74865734, 165.27475095,\n",
       "       158.47684657, 149.7282288 , 161.54348379, 123.41874915,\n",
       "       162.38601303, 125.93491783, 135.93407078, 137.54040456,\n",
       "       172.60992099, 119.44406089, 136.22434759, 118.56609496,\n",
       "       119.00596986, 122.39832061, 121.66638502, 151.33277871,\n",
       "       142.82936592, 136.08010112, 163.81444751, 171.18327038,\n",
       "       152.82673499, 143.99939254, 136.80846897, 131.95581478,\n",
       "       160.11683319, 168.84678488, 145.31366564, 125.64285714,\n",
       "       117.68991289, 166.88108474, 144.4356997 , 122.39653674,\n",
       "       158.5104994 , 151.0425019 , 136.37037794, 159.3193758 ,\n",
       "       152.35677499, 177.49622802, 121.37432433, 161.86919732,\n",
       "       131.95759865, 168.08298032, 157.35545953, 131.07963271,\n",
       "       131.51772375, 134.00202347, 173.55340872, 136.81025284,\n",
       "       131.66553796, 154.72512946, 115.4658049 , 116.19774049,\n",
       "       129.29539962, 150.3105663 , 160.37524104, 159.02731511,\n",
       "       125.64285714, 119.15021633, 116.19595662, 129.47329893,\n",
       "       148.70423252, 125.93491783, 146.62793874, 130.20345065,\n",
       "       152.50102147, 136.07831725, 153.99497774, 156.62530781,\n",
       "       170.74517935, 122.25229027, 171.47533107, 131.08141658,\n",
       "       161.18590131, 156.77133815, 150.45838052, 142.83114979,\n",
       "       126.66685343, 122.54435095, 162.93826544, 136.51640828,\n",
       "       172.20548279, 119.15021633, 156.65717677, 136.51819215,\n",
       "       144.14542288, 119.00596986, 160.55492422, 158.0051027 ,\n",
       "       136.22434759, 163.52238682, 143.26924082, 122.54435095,\n",
       "       126.22876239, 138.27055628, 131.81156831, 127.2509748 ,\n",
       "       163.81444751, 131.51950762, 159.17334545, 127.10494446,\n",
       "       149.14410742, 115.90389593, 153.8489474 , 136.37216181,\n",
       "       133.1258414 , 152.97276533, 153.55688671, 130.20345065,\n",
       "       140.93275531, 164.39856888, 138.12452594, 151.91868396,\n",
       "       159.06096794, 173.95784692, 152.82673499, 142.97539626,\n",
       "       160.2292107 , 151.48059293])"
      ]
     },
     "execution_count": 173,
     "metadata": {},
     "output_type": "execute_result"
    }
   ],
   "source": [
    "# These are all the predicted heights of all the students in the X_test dataset\n",
    "y_pred"
   ]
  },
  {
   "cell_type": "code",
   "execution_count": 174,
   "metadata": {},
   "outputs": [
    {
     "data": {
      "text/plain": [
       "(250,)"
      ]
     },
     "execution_count": 174,
     "metadata": {},
     "output_type": "execute_result"
    }
   ],
   "source": [
    "y_pred.shape"
   ]
  },
  {
   "cell_type": "code",
   "execution_count": 175,
   "metadata": {},
   "outputs": [],
   "source": [
    "from sklearn.metrics import r2_score, mean_squared_error, mean_absolute_error"
   ]
  },
  {
   "cell_type": "markdown",
   "metadata": {},
   "source": [
    "### Evalute the Performance of the Model"
   ]
  },
  {
   "cell_type": "code",
   "execution_count": 176,
   "metadata": {},
   "outputs": [],
   "source": [
    "# Evaluate the performance of the model\n",
    "\n",
    "r2 = r2_score(y_test, y_pred)\n",
    "\n",
    "mse = mean_squared_error(y_test, y_pred)\n",
    "\n",
    "rmse = np.sqrt(mean_squared_error(y_test, y_pred))\n",
    "\n",
    "mae = mean_absolute_error(y_test, y_pred) \n",
    "\n",
    "intercept = lr.intercept_\n",
    "\n",
    "coefficient = lr.coef_"
   ]
  },
  {
   "cell_type": "code",
   "execution_count": 177,
   "metadata": {},
   "outputs": [
    {
     "data": {
      "text/plain": [
       "(1248, 4)"
      ]
     },
     "execution_count": 177,
     "metadata": {},
     "output_type": "execute_result"
    }
   ],
   "source": [
    "X.shape"
   ]
  },
  {
   "cell_type": "code",
   "execution_count": 178,
   "metadata": {},
   "outputs": [],
   "source": [
    "# Get adjusted r-square score\n",
    "n = 1248\n",
    "p = 4\n",
    "\n",
    "Adj_r2 = 1-(1-r2)*(n-1)/(n-p-1)"
   ]
  },
  {
   "cell_type": "code",
   "execution_count": 179,
   "metadata": {},
   "outputs": [
    {
     "name": "stdout",
     "output_type": "stream",
     "text": [
      "R2 score:  0.976041773683146\n",
      "Adjusted R2 score:  0.9759646756097209\n",
      "mean_squared_error:  8.13309678779269\n",
      "root_mean_squared_error:  2.8518584796221376\n",
      "mean_absolute_error:  2.4293839285728573\n",
      "Intercept:  89.67010725808464\n",
      "Coefficient:  [-0.4044382   1.46030344  0.07212324 -0.07212324]\n"
     ]
    }
   ],
   "source": [
    "# Full summary statistics\n",
    "print('R2 score: ', r2)\n",
    "print('Adjusted R2 score: ', Adj_r2)\n",
    "print('mean_squared_error: ', mse)\n",
    "print('root_mean_squared_error: ', rmse)\n",
    "print('mean_absolute_error: ', mae)\n",
    "print('Intercept: ', intercept)\n",
    "print('Coefficient: ', coefficient)"
   ]
  },
  {
   "cell_type": "markdown",
   "metadata": {},
   "source": [
    "The R<sup>2</sup> was quite high at 97.6%. This means that the 97.6% of the variance of the height is explained by the independent variables. The results were going to be quite obvious where the age, weight, and gender most definitely impacts the height but was it was good to see that I got a high R<sup>2</sup> value.\n",
    "\n",
    "The adjusted R<sup>2</sup> was just a tiny bit under the R<sup>2</sup> which means that there variables I used have some significance to it.\n",
    "\n",
    "The mean squared error is quite low at around 8.13. This means that the root mean squared error is also low at 2.85. These values provide an estimation on how well the model was able to predict the target value.\n",
    "\n",
    "The mean absolute error is also quite low at 2.43 which tells me the average magnitude of error was quite low."
   ]
  },
  {
   "cell_type": "code",
   "execution_count": 180,
   "metadata": {},
   "outputs": [],
   "source": [
    "# Creates a dataframe of the coefficients and the coefficient values so I can see what the value each coefficient got\n",
    "coeff_val = []\n",
    "for i in coefficient:\n",
    "    coeff_val.append(i)\n",
    "\n",
    "\n",
    "coeff_name = []\n",
    "for i in X.columns:\n",
    "    coeff_name.append(i)\n",
    "\n",
    "df_coeff = pd.DataFrame({'Coeff Name':coeff_name, 'Coeff Value':coeff_val})"
   ]
  },
  {
   "cell_type": "code",
   "execution_count": 181,
   "metadata": {},
   "outputs": [
    {
     "data": {
      "text/html": [
       "<div>\n",
       "<style scoped>\n",
       "    .dataframe tbody tr th:only-of-type {\n",
       "        vertical-align: middle;\n",
       "    }\n",
       "\n",
       "    .dataframe tbody tr th {\n",
       "        vertical-align: top;\n",
       "    }\n",
       "\n",
       "    .dataframe thead th {\n",
       "        text-align: right;\n",
       "    }\n",
       "</style>\n",
       "<table border=\"1\" class=\"dataframe\">\n",
       "  <thead>\n",
       "    <tr style=\"text-align: right;\">\n",
       "      <th></th>\n",
       "      <th>Coeff Name</th>\n",
       "      <th>Coeff Value</th>\n",
       "    </tr>\n",
       "  </thead>\n",
       "  <tbody>\n",
       "    <tr>\n",
       "      <th>0</th>\n",
       "      <td>year</td>\n",
       "      <td>-0.404438</td>\n",
       "    </tr>\n",
       "    <tr>\n",
       "      <th>1</th>\n",
       "      <td>body_weight</td>\n",
       "      <td>1.460303</td>\n",
       "    </tr>\n",
       "    <tr>\n",
       "      <th>2</th>\n",
       "      <td>Gender_Female</td>\n",
       "      <td>0.072123</td>\n",
       "    </tr>\n",
       "    <tr>\n",
       "      <th>3</th>\n",
       "      <td>Gender_Male</td>\n",
       "      <td>-0.072123</td>\n",
       "    </tr>\n",
       "  </tbody>\n",
       "</table>\n",
       "</div>"
      ],
      "text/plain": [
       "      Coeff Name  Coeff Value\n",
       "0           year    -0.404438\n",
       "1    body_weight     1.460303\n",
       "2  Gender_Female     0.072123\n",
       "3    Gender_Male    -0.072123"
      ]
     },
     "execution_count": 181,
     "metadata": {},
     "output_type": "execute_result"
    }
   ],
   "source": [
    "df_coeff"
   ]
  },
  {
   "cell_type": "markdown",
   "metadata": {},
   "source": [
    "The regression function looks something like: \\\n",
    "\n",
    "height = 89.67 - 0.4<em>year</em> + 1.46<em>body_weight</em> + 0.072<em>female</em> - 0.072<em>male</em>"
   ]
  },
  {
   "cell_type": "markdown",
   "metadata": {},
   "source": [
    "Interesting to see that year has a negative coefficient value of -0.04 since your height should increase as you get older especially when you are a student (ages between 5-17). It is also interesting to see that males have a negative coefficient as well."
   ]
  },
  {
   "cell_type": "code",
   "execution_count": 182,
   "metadata": {},
   "outputs": [
    {
     "data": {
      "image/png": "[encoded data removed]",
      "text/plain": [
       "<Figure size 640x480 with 1 Axes>"
      ]
     },
     "metadata": {},
     "output_type": "display_data"
    }
   ],
   "source": [
    "# Plot predicted values against the actual values\n",
    "plt.scatter(y_test, y_pred, alpha = 0.5)\n",
    "plt.plot([y.min(), y.max()], [y.min(), y.max()], color = 'red')\n",
    "plt.xlabel('Actual Values')\n",
    "plt.ylabel('Predicted Values')\n",
    "plt.title('Predicted vs Actual Values')\n",
    "plt.show()"
   ]
  },
  {
   "cell_type": "markdown",
   "metadata": {},
   "source": [
    "The best fit line looks to be pretty well in-line with the scatter plot"
   ]
  },
  {
   "cell_type": "code",
   "execution_count": 183,
   "metadata": {},
   "outputs": [
    {
     "data": {
      "text/plain": [
       "count    250.000000\n",
       "mean       0.138416\n",
       "std        2.854212\n",
       "min       -7.056531\n",
       "25%       -2.393208\n",
       "50%        0.757587\n",
       "75%        2.476784\n",
       "max        4.875652\n",
       "Name: height, dtype: float64"
      ]
     },
     "execution_count": 183,
     "metadata": {},
     "output_type": "execute_result"
    }
   ],
   "source": [
    "# Getting info on the residuals\n",
    "residuals = y_test - y_pred\n",
    "\n",
    "residuals.describe()"
   ]
  },
  {
   "cell_type": "code",
   "execution_count": 184,
   "metadata": {},
   "outputs": [
    {
     "data": {
      "image/png": "[encoded data removed]",
      "text/plain": [
       "<Figure size 640x480 with 1 Axes>"
      ]
     },
     "metadata": {},
     "output_type": "display_data"
    }
   ],
   "source": [
    "# Plotting the residuals\n",
    "\n",
    "plt.scatter(y_pred, residuals, alpha = 0.5)\n",
    "plt.xlabel('Predicted Values')\n",
    "plt.ylabel('Residuals')\n",
    "plt.title('Residual Plot')\n",
    "plt.show()"
   ]
  },
  {
   "cell_type": "markdown",
   "metadata": {},
   "source": [
    "You can see an obvious pattern with the residual plots which isn't good. This means that a non-linear model may be a better fit for this dataset."
   ]
  },
  {
   "cell_type": "code",
   "execution_count": 185,
   "metadata": {},
   "outputs": [
    {
     "data": {
      "image/png": "[encoded data removed]",
      "text/plain": [
       "<Figure size 640x480 with 1 Axes>"
      ]
     },
     "metadata": {},
     "output_type": "display_data"
    }
   ],
   "source": [
    "# Q-Q plot\n",
    "stats.probplot(residuals, dist = 'norm', plot = plt);"
   ]
  },
  {
   "cell_type": "markdown",
   "metadata": {},
   "source": [
    "The Q-Q plot tends to have in and out of the line meaning that ther residuals are not very normally distributed."
   ]
  },
  {
   "cell_type": "markdown",
   "metadata": {},
   "source": [
    "### Next Step"
   ]
  },
  {
   "cell_type": "markdown",
   "metadata": {},
   "source": [
    "I will try see if adding a log to both height and weight would affect the results."
   ]
  },
  {
   "cell_type": "markdown",
   "metadata": {},
   "source": [
    "### Non-linear Regression"
   ]
  },
  {
   "cell_type": "code",
   "execution_count": 186,
   "metadata": {},
   "outputs": [
    {
     "data": {
      "text/html": [
       "<div>\n",
       "<style scoped>\n",
       "    .dataframe tbody tr th:only-of-type {\n",
       "        vertical-align: middle;\n",
       "    }\n",
       "\n",
       "    .dataframe tbody tr th {\n",
       "        vertical-align: top;\n",
       "    }\n",
       "\n",
       "    .dataframe thead th {\n",
       "        text-align: right;\n",
       "    }\n",
       "</style>\n",
       "<table border=\"1\" class=\"dataframe\">\n",
       "  <thead>\n",
       "    <tr style=\"text-align: right;\">\n",
       "      <th></th>\n",
       "      <th>year</th>\n",
       "      <th>prefecture</th>\n",
       "      <th>height</th>\n",
       "      <th>height_standard deviation</th>\n",
       "      <th>body_weight</th>\n",
       "      <th>body weight _standard deviation</th>\n",
       "      <th>Gender_Female</th>\n",
       "      <th>Gender_Male</th>\n",
       "    </tr>\n",
       "  </thead>\n",
       "  <tbody>\n",
       "    <tr>\n",
       "      <th>0</th>\n",
       "      <td>5</td>\n",
       "      <td>national</td>\n",
       "      <td>111.0</td>\n",
       "      <td>4.87</td>\n",
       "      <td>19.3</td>\n",
       "      <td>2.79</td>\n",
       "      <td>0</td>\n",
       "      <td>1</td>\n",
       "    </tr>\n",
       "    <tr>\n",
       "      <th>1</th>\n",
       "      <td>5</td>\n",
       "      <td>Hokkaido</td>\n",
       "      <td>111.3</td>\n",
       "      <td>4.81</td>\n",
       "      <td>19.3</td>\n",
       "      <td>2.83</td>\n",
       "      <td>0</td>\n",
       "      <td>1</td>\n",
       "    </tr>\n",
       "    <tr>\n",
       "      <th>2</th>\n",
       "      <td>5</td>\n",
       "      <td>Aomori</td>\n",
       "      <td>111.8</td>\n",
       "      <td>4.87</td>\n",
       "      <td>19.9</td>\n",
       "      <td>2.78</td>\n",
       "      <td>0</td>\n",
       "      <td>1</td>\n",
       "    </tr>\n",
       "    <tr>\n",
       "      <th>3</th>\n",
       "      <td>5</td>\n",
       "      <td>Iwate</td>\n",
       "      <td>111.0</td>\n",
       "      <td>5.08</td>\n",
       "      <td>19.6</td>\n",
       "      <td>3.02</td>\n",
       "      <td>0</td>\n",
       "      <td>1</td>\n",
       "    </tr>\n",
       "    <tr>\n",
       "      <th>4</th>\n",
       "      <td>5</td>\n",
       "      <td>Miyagi</td>\n",
       "      <td>111.3</td>\n",
       "      <td>4.90</td>\n",
       "      <td>19.7</td>\n",
       "      <td>3.04</td>\n",
       "      <td>0</td>\n",
       "      <td>1</td>\n",
       "    </tr>\n",
       "  </tbody>\n",
       "</table>\n",
       "</div>"
      ],
      "text/plain": [
       "   year prefecture  height  height_standard deviation  body_weight  \\\n",
       "0     5   national   111.0                       4.87         19.3   \n",
       "1     5   Hokkaido   111.3                       4.81         19.3   \n",
       "2     5     Aomori   111.8                       4.87         19.9   \n",
       "3     5      Iwate   111.0                       5.08         19.6   \n",
       "4     5     Miyagi   111.3                       4.90         19.7   \n",
       "\n",
       "   body weight _standard deviation  Gender_Female  Gender_Male  \n",
       "0                             2.79              0            1  \n",
       "1                             2.83              0            1  \n",
       "2                             2.78              0            1  \n",
       "3                             3.02              0            1  \n",
       "4                             3.04              0            1  "
      ]
     },
     "execution_count": 186,
     "metadata": {},
     "output_type": "execute_result"
    }
   ],
   "source": [
    "df_all.head()"
   ]
  },
  {
   "cell_type": "code",
   "execution_count": 187,
   "metadata": {},
   "outputs": [],
   "source": [
    "df_all_2 = df_all.copy()"
   ]
  },
  {
   "cell_type": "code",
   "execution_count": 188,
   "metadata": {},
   "outputs": [],
   "source": [
    "# Log both height and weight\n",
    "df_all_2['log_height'] = np.log(df_all_2['height'])\n",
    "df_all_2['log_body_weight'] = np.log(df_all_2['body_weight'])"
   ]
  },
  {
   "cell_type": "code",
   "execution_count": 189,
   "metadata": {},
   "outputs": [
    {
     "data": {
      "text/html": [
       "<div>\n",
       "<style scoped>\n",
       "    .dataframe tbody tr th:only-of-type {\n",
       "        vertical-align: middle;\n",
       "    }\n",
       "\n",
       "    .dataframe tbody tr th {\n",
       "        vertical-align: top;\n",
       "    }\n",
       "\n",
       "    .dataframe thead th {\n",
       "        text-align: right;\n",
       "    }\n",
       "</style>\n",
       "<table border=\"1\" class=\"dataframe\">\n",
       "  <thead>\n",
       "    <tr style=\"text-align: right;\">\n",
       "      <th></th>\n",
       "      <th>year</th>\n",
       "      <th>prefecture</th>\n",
       "      <th>height</th>\n",
       "      <th>height_standard deviation</th>\n",
       "      <th>body_weight</th>\n",
       "      <th>body weight _standard deviation</th>\n",
       "      <th>Gender_Female</th>\n",
       "      <th>Gender_Male</th>\n",
       "      <th>log_height</th>\n",
       "      <th>log_body_weight</th>\n",
       "    </tr>\n",
       "  </thead>\n",
       "  <tbody>\n",
       "    <tr>\n",
       "      <th>0</th>\n",
       "      <td>5</td>\n",
       "      <td>national</td>\n",
       "      <td>111.0</td>\n",
       "      <td>4.87</td>\n",
       "      <td>19.3</td>\n",
       "      <td>2.79</td>\n",
       "      <td>0</td>\n",
       "      <td>1</td>\n",
       "      <td>4.709530</td>\n",
       "      <td>2.960105</td>\n",
       "    </tr>\n",
       "    <tr>\n",
       "      <th>1</th>\n",
       "      <td>5</td>\n",
       "      <td>Hokkaido</td>\n",
       "      <td>111.3</td>\n",
       "      <td>4.81</td>\n",
       "      <td>19.3</td>\n",
       "      <td>2.83</td>\n",
       "      <td>0</td>\n",
       "      <td>1</td>\n",
       "      <td>4.712229</td>\n",
       "      <td>2.960105</td>\n",
       "    </tr>\n",
       "    <tr>\n",
       "      <th>2</th>\n",
       "      <td>5</td>\n",
       "      <td>Aomori</td>\n",
       "      <td>111.8</td>\n",
       "      <td>4.87</td>\n",
       "      <td>19.9</td>\n",
       "      <td>2.78</td>\n",
       "      <td>0</td>\n",
       "      <td>1</td>\n",
       "      <td>4.716712</td>\n",
       "      <td>2.990720</td>\n",
       "    </tr>\n",
       "    <tr>\n",
       "      <th>3</th>\n",
       "      <td>5</td>\n",
       "      <td>Iwate</td>\n",
       "      <td>111.0</td>\n",
       "      <td>5.08</td>\n",
       "      <td>19.6</td>\n",
       "      <td>3.02</td>\n",
       "      <td>0</td>\n",
       "      <td>1</td>\n",
       "      <td>4.709530</td>\n",
       "      <td>2.975530</td>\n",
       "    </tr>\n",
       "    <tr>\n",
       "      <th>4</th>\n",
       "      <td>5</td>\n",
       "      <td>Miyagi</td>\n",
       "      <td>111.3</td>\n",
       "      <td>4.90</td>\n",
       "      <td>19.7</td>\n",
       "      <td>3.04</td>\n",
       "      <td>0</td>\n",
       "      <td>1</td>\n",
       "      <td>4.712229</td>\n",
       "      <td>2.980619</td>\n",
       "    </tr>\n",
       "  </tbody>\n",
       "</table>\n",
       "</div>"
      ],
      "text/plain": [
       "   year prefecture  height  height_standard deviation  body_weight  \\\n",
       "0     5   national   111.0                       4.87         19.3   \n",
       "1     5   Hokkaido   111.3                       4.81         19.3   \n",
       "2     5     Aomori   111.8                       4.87         19.9   \n",
       "3     5      Iwate   111.0                       5.08         19.6   \n",
       "4     5     Miyagi   111.3                       4.90         19.7   \n",
       "\n",
       "   body weight _standard deviation  Gender_Female  Gender_Male  log_height  \\\n",
       "0                             2.79              0            1    4.709530   \n",
       "1                             2.83              0            1    4.712229   \n",
       "2                             2.78              0            1    4.716712   \n",
       "3                             3.02              0            1    4.709530   \n",
       "4                             3.04              0            1    4.712229   \n",
       "\n",
       "   log_body_weight  \n",
       "0         2.960105  \n",
       "1         2.960105  \n",
       "2         2.990720  \n",
       "3         2.975530  \n",
       "4         2.980619  "
      ]
     },
     "execution_count": 189,
     "metadata": {},
     "output_type": "execute_result"
    }
   ],
   "source": [
    "df_all_2.head()"
   ]
  },
  {
   "cell_type": "code",
   "execution_count": 190,
   "metadata": {},
   "outputs": [],
   "source": [
    "X2 = df_all_2.drop(['height', 'height_standard deviation', 'body weight _standard deviation', 'prefecture', 'body_weight', 'log_height'], axis = 1)\n",
    "y2 = df_all_2['log_height']"
   ]
  },
  {
   "cell_type": "code",
   "execution_count": 191,
   "metadata": {},
   "outputs": [
    {
     "data": {
      "text/html": [
       "<div>\n",
       "<style scoped>\n",
       "    .dataframe tbody tr th:only-of-type {\n",
       "        vertical-align: middle;\n",
       "    }\n",
       "\n",
       "    .dataframe tbody tr th {\n",
       "        vertical-align: top;\n",
       "    }\n",
       "\n",
       "    .dataframe thead th {\n",
       "        text-align: right;\n",
       "    }\n",
       "</style>\n",
       "<table border=\"1\" class=\"dataframe\">\n",
       "  <thead>\n",
       "    <tr style=\"text-align: right;\">\n",
       "      <th></th>\n",
       "      <th>year</th>\n",
       "      <th>Gender_Female</th>\n",
       "      <th>Gender_Male</th>\n",
       "      <th>log_body_weight</th>\n",
       "    </tr>\n",
       "  </thead>\n",
       "  <tbody>\n",
       "    <tr>\n",
       "      <th>0</th>\n",
       "      <td>5</td>\n",
       "      <td>0</td>\n",
       "      <td>1</td>\n",
       "      <td>2.960105</td>\n",
       "    </tr>\n",
       "    <tr>\n",
       "      <th>1</th>\n",
       "      <td>5</td>\n",
       "      <td>0</td>\n",
       "      <td>1</td>\n",
       "      <td>2.960105</td>\n",
       "    </tr>\n",
       "    <tr>\n",
       "      <th>2</th>\n",
       "      <td>5</td>\n",
       "      <td>0</td>\n",
       "      <td>1</td>\n",
       "      <td>2.990720</td>\n",
       "    </tr>\n",
       "    <tr>\n",
       "      <th>3</th>\n",
       "      <td>5</td>\n",
       "      <td>0</td>\n",
       "      <td>1</td>\n",
       "      <td>2.975530</td>\n",
       "    </tr>\n",
       "    <tr>\n",
       "      <th>4</th>\n",
       "      <td>5</td>\n",
       "      <td>0</td>\n",
       "      <td>1</td>\n",
       "      <td>2.980619</td>\n",
       "    </tr>\n",
       "  </tbody>\n",
       "</table>\n",
       "</div>"
      ],
      "text/plain": [
       "   year  Gender_Female  Gender_Male  log_body_weight\n",
       "0     5              0            1         2.960105\n",
       "1     5              0            1         2.960105\n",
       "2     5              0            1         2.990720\n",
       "3     5              0            1         2.975530\n",
       "4     5              0            1         2.980619"
      ]
     },
     "execution_count": 191,
     "metadata": {},
     "output_type": "execute_result"
    }
   ],
   "source": [
    "X2.head()"
   ]
  },
  {
   "cell_type": "code",
   "execution_count": 192,
   "metadata": {},
   "outputs": [
    {
     "data": {
      "text/plain": [
       "0    4.709530\n",
       "1    4.712229\n",
       "2    4.716712\n",
       "3    4.709530\n",
       "4    4.712229\n",
       "Name: log_height, dtype: float64"
      ]
     },
     "execution_count": 192,
     "metadata": {},
     "output_type": "execute_result"
    }
   ],
   "source": [
    "y2.head()"
   ]
  },
  {
   "cell_type": "code",
   "execution_count": 193,
   "metadata": {},
   "outputs": [
    {
     "data": {
      "text/plain": [
       "((1248, 4), (1248,))"
      ]
     },
     "execution_count": 193,
     "metadata": {},
     "output_type": "execute_result"
    }
   ],
   "source": [
    "X2.shape, y2.shape"
   ]
  },
  {
   "cell_type": "code",
   "execution_count": 194,
   "metadata": {},
   "outputs": [],
   "source": [
    "# Split data into training and test datasets\n",
    "X_train2, X_test2, y_train2, y_test2 = train_test_split(X2, y2, test_size = 0.2, random_state = 42)"
   ]
  },
  {
   "cell_type": "code",
   "execution_count": 195,
   "metadata": {},
   "outputs": [
    {
     "name": "stdout",
     "output_type": "stream",
     "text": [
      "Training set shape:  (998, 4) (998,)\n",
      "Testing set shape:  (250, 4) (250,)\n"
     ]
    }
   ],
   "source": [
    "# Getting a visual on the split\n",
    "print('Training set shape: ', X_train2.shape, y_train2.shape)\n",
    "print('Testing set shape: ', X_test2.shape, y_test2.shape)"
   ]
  },
  {
   "cell_type": "markdown",
   "metadata": {},
   "source": [
    "### Making Regression Model"
   ]
  },
  {
   "cell_type": "code",
   "execution_count": 196,
   "metadata": {},
   "outputs": [],
   "source": [
    "# Creating the linear regression model\n",
    "lr = linear_model.LinearRegression()"
   ]
  },
  {
   "cell_type": "code",
   "execution_count": 197,
   "metadata": {},
   "outputs": [
    {
     "data": {
      "text/html": [
       "<style>#sk-container-id-6 {color: black;}#sk-container-id-6 pre{padding: 0;}#sk-container-id-6 div.sk-toggleable {background-color: white;}#sk-container-id-6 label.sk-toggleable__label {cursor: pointer;display: block;width: 100%;margin-bottom: 0;padding: 0.3em;box-sizing: border-box;text-align: center;}#sk-container-id-6 label.sk-toggleable__label-arrow:before {content: \"▸\";float: left;margin-right: 0.25em;color: #696969;}#sk-container-id-6 label.sk-toggleable__label-arrow:hover:before {color: black;}#sk-container-id-6 div.sk-estimator:hover label.sk-toggleable__label-arrow:before {color: black;}#sk-container-id-6 div.sk-toggleable__content {max-height: 0;max-width: 0;overflow: hidden;text-align: left;background-color: #f0f8ff;}#sk-container-id-6 div.sk-toggleable__content pre {margin: 0.2em;color: black;border-radius: 0.25em;background-color: #f0f8ff;}#sk-container-id-6 input.sk-toggleable__control:checked~div.sk-toggleable__content {max-height: 200px;max-width: 100%;overflow: auto;}#sk-container-id-6 input.sk-toggleable__control:checked~label.sk-toggleable__label-arrow:before {content: \"▾\";}#sk-container-id-6 div.sk-estimator input.sk-toggleable__control:checked~label.sk-toggleable__label {background-color: #d4ebff;}#sk-container-id-6 div.sk-label input.sk-toggleable__control:checked~label.sk-toggleable__label {background-color: #d4ebff;}#sk-container-id-6 input.sk-hidden--visually {border: 0;clip: rect(1px 1px 1px 1px);clip: rect(1px, 1px, 1px, 1px);height: 1px;margin: -1px;overflow: hidden;padding: 0;position: absolute;width: 1px;}#sk-container-id-6 div.sk-estimator {font-family: monospace;background-color: #f0f8ff;border: 1px dotted black;border-radius: 0.25em;box-sizing: border-box;margin-bottom: 0.5em;}#sk-container-id-6 div.sk-estimator:hover {background-color: #d4ebff;}#sk-container-id-6 div.sk-parallel-item::after {content: \"\";width: 100%;border-bottom: 1px solid gray;flex-grow: 1;}#sk-container-id-6 div.sk-label:hover label.sk-toggleable__label {background-color: #d4ebff;}#sk-container-id-6 div.sk-serial::before {content: \"\";position: absolute;border-left: 1px solid gray;box-sizing: border-box;top: 0;bottom: 0;left: 50%;z-index: 0;}#sk-container-id-6 div.sk-serial {display: flex;flex-direction: column;align-items: center;background-color: white;padding-right: 0.2em;padding-left: 0.2em;position: relative;}#sk-container-id-6 div.sk-item {position: relative;z-index: 1;}#sk-container-id-6 div.sk-parallel {display: flex;align-items: stretch;justify-content: center;background-color: white;position: relative;}#sk-container-id-6 div.sk-item::before, #sk-container-id-6 div.sk-parallel-item::before {content: \"\";position: absolute;border-left: 1px solid gray;box-sizing: border-box;top: 0;bottom: 0;left: 50%;z-index: -1;}#sk-container-id-6 div.sk-parallel-item {display: flex;flex-direction: column;z-index: 1;position: relative;background-color: white;}#sk-container-id-6 div.sk-parallel-item:first-child::after {align-self: flex-end;width: 50%;}#sk-container-id-6 div.sk-parallel-item:last-child::after {align-self: flex-start;width: 50%;}#sk-container-id-6 div.sk-parallel-item:only-child::after {width: 0;}#sk-container-id-6 div.sk-dashed-wrapped {border: 1px dashed gray;margin: 0 0.4em 0.5em 0.4em;box-sizing: border-box;padding-bottom: 0.4em;background-color: white;}#sk-container-id-6 div.sk-label label {font-family: monospace;font-weight: bold;display: inline-block;line-height: 1.2em;}#sk-container-id-6 div.sk-label-container {text-align: center;}#sk-container-id-6 div.sk-container {/* jupyter's `normalize.less` sets `[hidden] { display: none; }` but bootstrap.min.css set `[hidden] { display: none !important; }` so we also need the `!important` here to be able to override the default hidden behavior on the sphinx rendered scikit-learn.org. See: https://github.com/scikit-learn/scikit-learn/issues/21755 */display: inline-block !important;position: relative;}#sk-container-id-6 div.sk-text-repr-fallback {display: none;}</style><div id=\"sk-container-id-6\" class=\"sk-top-container\"><div class=\"sk-text-repr-fallback\"><pre>LinearRegression()</pre><b>In a Jupyter environment, please rerun this cell to show the HTML representation or trust the notebook. <br />On GitHub, the HTML representation is unable to render, please try loading this page with nbviewer.org.</b></div><div class=\"sk-container\" hidden><div class=\"sk-item\"><div class=\"sk-estimator sk-toggleable\"><input class=\"sk-toggleable__control sk-hidden--visually\" id=\"sk-estimator-id-6\" type=\"checkbox\" checked><label for=\"sk-estimator-id-6\" class=\"sk-toggleable__label sk-toggleable__label-arrow\">LinearRegression</label><div class=\"sk-toggleable__content\"><pre>LinearRegression()</pre></div></div></div></div></div>"
      ],
      "text/plain": [
       "LinearRegression()"
      ]
     },
     "execution_count": 197,
     "metadata": {},
     "output_type": "execute_result"
    }
   ],
   "source": [
    "# Trains the data on the training set\n",
    "# Takes the data and tries to fit it into the line\n",
    "lr.fit(X_train2, y_train2)"
   ]
  },
  {
   "cell_type": "code",
   "execution_count": 198,
   "metadata": {},
   "outputs": [],
   "source": [
    "# Predict on the testing set\n",
    "y_pred2 = lr.predict(X_test2)"
   ]
  },
  {
   "cell_type": "code",
   "execution_count": 199,
   "metadata": {},
   "outputs": [
    {
     "data": {
      "text/plain": [
       "array([4.75843424, 4.94506689, 4.94131679, 4.95214274, 4.98557126,\n",
       "       5.10635031, 4.93969436, 4.75313185, 4.72042311, 4.97451443,\n",
       "       5.07709832, 4.71262163, 4.88958246, 4.90602796, 4.99351675,\n",
       "       5.06862357, 5.04490476, 5.06756486, 4.78520885, 5.04954041,\n",
       "       5.02655926, 4.70560618, 5.06609525, 4.75015114, 5.07743367,\n",
       "       5.13236989, 4.91700396, 4.72407274, 5.06387708, 5.02054378,\n",
       "       5.13803302, 4.83164351, 4.89761378, 5.10554826, 5.05634489,\n",
       "       5.13821176, 5.0695125 , 5.0094715 , 5.03535031, 4.8537611 ,\n",
       "       4.98579069, 5.05049054, 5.03142005, 5.02255802, 5.04302707,\n",
       "       4.71029546, 5.14153607, 5.07128504, 4.84482316, 5.1273176 ,\n",
       "       4.97107482, 5.07541978, 4.75223647, 4.76746073, 4.9285822 ,\n",
       "       4.93461541, 4.90651955, 4.79085393, 4.70086674, 4.70795702,\n",
       "       5.14223336, 4.75520741, 4.76341382, 5.0285464 , 4.88814137,\n",
       "       4.99132302, 4.98890729, 4.84571853, 5.0625783 , 4.75104651,\n",
       "       4.84482316, 4.75431204, 4.79732338, 5.04782284, 5.1446128 ,\n",
       "       4.99984941, 5.14223336, 4.99022206, 4.76048105, 5.12591116,\n",
       "       4.84805773, 4.79271976, 4.72496811, 4.79271976, 4.9708177 ,\n",
       "       5.07340113, 4.70885239, 5.07218353, 5.02143915, 5.06594602,\n",
       "       4.80646048, 4.75727331, 4.79085393, 4.75015114, 5.13820595,\n",
       "       4.82069892, 5.07305051, 5.05718815, 5.12288623, 4.89477318,\n",
       "       4.9731197 , 4.99111743, 4.99659505, 5.05325725, 5.15797566,\n",
       "       4.80282822, 5.12658211, 4.74805594, 4.88669558, 5.06871476,\n",
       "       4.84733877, 4.70560618, 5.13604957, 5.02255802, 4.88903674,\n",
       "       5.05718815, 5.03632745, 4.77147101, 4.76341382, 5.10874779,\n",
       "       4.71119083, 4.70560618, 4.8537611 , 4.75431204, 4.8082655 ,\n",
       "       4.77147101, 5.0667248 , 5.03052468, 4.70324279, 5.05814249,\n",
       "       5.03249417, 5.10954408, 5.05651782, 5.02745463, 5.07422864,\n",
       "       4.8145176 , 5.08539694, 4.83992661, 4.93205394, 4.94596226,\n",
       "       5.14112712, 4.76947041, 4.93244115, 4.75431204, 4.76341382,\n",
       "       4.80464807, 4.79271976, 5.03640707, 4.98131456, 4.93333652,\n",
       "       5.10151608, 5.1273176 , 5.04019554, 4.99221839, 4.93753469,\n",
       "       4.89813192, 5.05970835, 5.11540069, 5.00200578, 4.83663193,\n",
       "       4.74171025, 5.11821007, 4.99351675, 4.80193284, 5.05039671,\n",
       "       5.03632745, 4.93372004, 5.06778668, 5.04502609, 5.15119979,\n",
       "       4.78898022, 5.0696482 , 4.9004363 , 5.11801485, 5.07039966,\n",
       "       4.88958246, 4.8938778 , 4.919706  , 5.13236989, 4.93969436,\n",
       "       4.89761378, 5.05233693, 4.71029546, 4.72496811, 4.87855824,\n",
       "       5.02953665, 5.06756486, 5.06607242, 4.83663193, 4.76251845,\n",
       "       4.72180606, 4.87346674, 5.01852034, 4.83992661, 5.01158166,\n",
       "       4.8808648 , 5.04413072, 4.93115857, 5.04770645, 5.06594602,\n",
       "       5.12510746, 4.80282822, 5.12878493, 4.89191424, 5.08668868,\n",
       "       5.06684033, 5.03240589, 4.98333321, 4.85056157, 4.80646048,\n",
       "       5.09662853, 4.93499524, 5.13243214, 4.76251845, 5.05814249,\n",
       "       4.93716216, 4.99331661, 4.76341382, 5.06221429, 5.06001978,\n",
       "       4.93244115, 5.09989288, 4.98668606, 4.80646048, 4.84571853,\n",
       "       4.95214274, 4.89902729, 4.8569377 , 5.10151608, 4.89619576,\n",
       "       5.06693038, 4.85535225, 5.0234534 , 4.71723764, 5.04677452,\n",
       "       4.93589061, 4.91154994, 5.04114139, 5.04490476, 4.8808648 ,\n",
       "       4.96850369, 5.10474475, 4.95091352, 5.04214547, 5.05994634,\n",
       "       5.14106488, 5.04019554, 4.98243784, 5.0667248 , 5.03924601])"
      ]
     },
     "execution_count": 199,
     "metadata": {},
     "output_type": "execute_result"
    }
   ],
   "source": [
    "# These are all the predicted heights of all the students in the X_test2 dataset\n",
    "y_pred2"
   ]
  },
  {
   "cell_type": "code",
   "execution_count": 200,
   "metadata": {},
   "outputs": [
    {
     "data": {
      "text/plain": [
       "(250,)"
      ]
     },
     "execution_count": 200,
     "metadata": {},
     "output_type": "execute_result"
    }
   ],
   "source": [
    "y_pred2.shape"
   ]
  },
  {
   "cell_type": "markdown",
   "metadata": {},
   "source": [
    "### Evalute the Performance of the Model"
   ]
  },
  {
   "cell_type": "code",
   "execution_count": 201,
   "metadata": {},
   "outputs": [],
   "source": [
    "# Evaluate the performance of the model\n",
    "\n",
    "r2_2 = r2_score(y_test2, y_pred2)\n",
    "\n",
    "mse_2 = mean_squared_error(y_test2, y_pred2)\n",
    "\n",
    "rmse_2 = np.sqrt(mean_squared_error(y_test2, y_pred2))\n",
    "\n",
    "mae_2 = mean_absolute_error(y_test2, y_pred2) \n",
    "\n",
    "intercept_2 = lr.intercept_\n",
    "\n",
    "coefficient_2 = lr.coef_"
   ]
  },
  {
   "cell_type": "code",
   "execution_count": 202,
   "metadata": {},
   "outputs": [
    {
     "data": {
      "text/plain": [
       "(1248, 4)"
      ]
     },
     "execution_count": 202,
     "metadata": {},
     "output_type": "execute_result"
    }
   ],
   "source": [
    "X2.shape"
   ]
  },
  {
   "cell_type": "code",
   "execution_count": 203,
   "metadata": {},
   "outputs": [],
   "source": [
    "# Get adjusted r-square score\n",
    "n = 1248\n",
    "p = 4\n",
    "\n",
    "Adj_r2_2 = 1-(1-r2_2)*(n-1)/(n-p-1)"
   ]
  },
  {
   "cell_type": "code",
   "execution_count": 204,
   "metadata": {},
   "outputs": [
    {
     "name": "stdout",
     "output_type": "stream",
     "text": [
      "R2 score:  0.9957071974735205\n",
      "Adjusted R2 score:  0.9956933831451972\n",
      "mean_squared_error:  7.585232463822423e-05\n",
      "root_mean_squared_error:  0.008709324005812634\n",
      "mean_absolute_error:  0.00716112453328386\n",
      "Intercept:  3.4494391119029872\n",
      "Coefficient:  [-0.00869498 -0.00044769  0.00044769  0.4431333 ]\n"
     ]
    }
   ],
   "source": [
    "# Full summary statistics\n",
    "print('R2 score: ', r2_2)\n",
    "print('Adjusted R2 score: ', Adj_r2_2)\n",
    "print('mean_squared_error: ', mse_2)\n",
    "print('root_mean_squared_error: ', rmse_2)\n",
    "print('mean_absolute_error: ', mae_2)\n",
    "print('Intercept: ', intercept_2)\n",
    "print('Coefficient: ', coefficient_2)"
   ]
  },
  {
   "cell_type": "markdown",
   "metadata": {},
   "source": [
    "The R<sup>2</sup> went up just a little bit to 99.6% (about a 2% increase). It was already high to begin with so I wasn't too worried about this value.\n",
    "\n",
    "Same thing with the adjusted R<sup>2</sup>, it is very slightly lower than the R<sup>2</sup> but not enough to say that the variables I used are not significant to the regression.\n",
    "\n",
    "The mean squared error and root mean squared error went way down meaning that the non-linear model was able to predict better here than the linear model.\n",
    "\n",
    "The mean absolute error also went way down which tells me that the average magnitude of error is even lower than the lienar model."
   ]
  },
  {
   "cell_type": "code",
   "execution_count": 205,
   "metadata": {},
   "outputs": [],
   "source": [
    "# Creates a dataframe of the coefficients and the coefficient values so I can see what the value each coefficient got\n",
    "coeff_val_2 = []\n",
    "for i in coefficient_2:\n",
    "    coeff_val_2.append(i)\n",
    "\n",
    "\n",
    "coeff_name_2 = []\n",
    "for i in X2.columns:\n",
    "    coeff_name_2.append(i)\n",
    "\n",
    "df_coeff_2 = pd.DataFrame({'Coeff Name':coeff_name_2, 'Coeff Value':coeff_val_2})"
   ]
  },
  {
   "cell_type": "code",
   "execution_count": 206,
   "metadata": {},
   "outputs": [
    {
     "data": {
      "text/html": [
       "<div>\n",
       "<style scoped>\n",
       "    .dataframe tbody tr th:only-of-type {\n",
       "        vertical-align: middle;\n",
       "    }\n",
       "\n",
       "    .dataframe tbody tr th {\n",
       "        vertical-align: top;\n",
       "    }\n",
       "\n",
       "    .dataframe thead th {\n",
       "        text-align: right;\n",
       "    }\n",
       "</style>\n",
       "<table border=\"1\" class=\"dataframe\">\n",
       "  <thead>\n",
       "    <tr style=\"text-align: right;\">\n",
       "      <th></th>\n",
       "      <th>Coeff Name</th>\n",
       "      <th>Coeff Value</th>\n",
       "    </tr>\n",
       "  </thead>\n",
       "  <tbody>\n",
       "    <tr>\n",
       "      <th>0</th>\n",
       "      <td>year</td>\n",
       "      <td>-0.008695</td>\n",
       "    </tr>\n",
       "    <tr>\n",
       "      <th>1</th>\n",
       "      <td>Gender_Female</td>\n",
       "      <td>-0.000448</td>\n",
       "    </tr>\n",
       "    <tr>\n",
       "      <th>2</th>\n",
       "      <td>Gender_Male</td>\n",
       "      <td>0.000448</td>\n",
       "    </tr>\n",
       "    <tr>\n",
       "      <th>3</th>\n",
       "      <td>log_body_weight</td>\n",
       "      <td>0.443133</td>\n",
       "    </tr>\n",
       "  </tbody>\n",
       "</table>\n",
       "</div>"
      ],
      "text/plain": [
       "        Coeff Name  Coeff Value\n",
       "0             year    -0.008695\n",
       "1    Gender_Female    -0.000448\n",
       "2      Gender_Male     0.000448\n",
       "3  log_body_weight     0.443133"
      ]
     },
     "execution_count": 206,
     "metadata": {},
     "output_type": "execute_result"
    }
   ],
   "source": [
    "df_coeff_2"
   ]
  },
  {
   "cell_type": "markdown",
   "metadata": {},
   "source": [
    "The regression function looks something like:\n",
    "\n",
    "log(<em>height</em>) =  3.45 - 0.008695<em>year</em> + 0.443133<em>log(body_weight)</em> - 0.000448<em>female</em> + 0.000448<em>male</em>"
   ]
  },
  {
   "cell_type": "markdown",
   "metadata": {},
   "source": [
    "Interesting to see that year still has a negative coefficient value of -0.008695 since your height should increase as you get older especially when you are a student (ages between 5-17). We also see that the coefficients for male and female switched to where male has a positive coefficient."
   ]
  },
  {
   "cell_type": "code",
   "execution_count": 207,
   "metadata": {},
   "outputs": [
    {
     "data": {
      "image/png": "[encoded data removed]",
      "text/plain": [
       "<Figure size 640x480 with 1 Axes>"
      ]
     },
     "metadata": {},
     "output_type": "display_data"
    }
   ],
   "source": [
    "# Plot predicted values against the actual values\n",
    "plt.scatter(y_test2, y_pred2, alpha = 0.5)\n",
    "plt.plot([y2.min(), y2.max()], [y2.min(), y2.max()], color = 'red')\n",
    "plt.xlabel('Actual Values')\n",
    "plt.ylabel('Predicted Values')\n",
    "plt.title('Predicted vs Actual Values')\n",
    "plt.show()"
   ]
  },
  {
   "cell_type": "markdown",
   "metadata": {},
   "source": [
    "The best fit line looks to be much more in line compared to the first version."
   ]
  },
  {
   "cell_type": "code",
   "execution_count": 208,
   "metadata": {},
   "outputs": [
    {
     "data": {
      "text/plain": [
       "count    250.000000\n",
       "mean      -0.000211\n",
       "std        0.008724\n",
       "min       -0.025971\n",
       "25%       -0.006340\n",
       "50%       -0.000422\n",
       "75%        0.006212\n",
       "max        0.018735\n",
       "Name: log_height, dtype: float64"
      ]
     },
     "execution_count": 208,
     "metadata": {},
     "output_type": "execute_result"
    }
   ],
   "source": [
    "# Getting info on the residuals\n",
    "residuals_2 = y_test2 - y_pred2\n",
    "\n",
    "residuals_2.describe()"
   ]
  },
  {
   "cell_type": "code",
   "execution_count": 209,
   "metadata": {},
   "outputs": [
    {
     "data": {
      "image/png": "[encoded data removed]",
      "text/plain": [
       "<Figure size 640x480 with 1 Axes>"
      ]
     },
     "metadata": {},
     "output_type": "display_data"
    }
   ],
   "source": [
    "# Plotting the residuals\n",
    "\n",
    "plt.scatter(y_pred2, residuals_2, alpha = 0.5)\n",
    "plt.xlabel('Predicted Values')\n",
    "plt.ylabel('Residuals')\n",
    "plt.title('Residual Plot')\n",
    "plt.show()"
   ]
  },
  {
   "cell_type": "markdown",
   "metadata": {},
   "source": [
    "The residuals looks to now be totally scattered around randomly with no discernable trend which is what we want. We want this because this shows that the independent variables describe the relatipnship so thorughly that only random errors remain."
   ]
  },
  {
   "cell_type": "code",
   "execution_count": 210,
   "metadata": {},
   "outputs": [
    {
     "data": {
      "image/png": "[encoded data removed]",
      "text/plain": [
       "<Figure size 640x480 with 1 Axes>"
      ]
     },
     "metadata": {},
     "output_type": "display_data"
    }
   ],
   "source": [
    "# Q-Q plot\n",
    "stats.probplot(residuals_2, dist = 'norm', plot = plt);"
   ]
  },
  {
   "cell_type": "markdown",
   "metadata": {},
   "source": [
    "The Q-Q plot looks to fit a lot better as well. There is still a little bit of a tail off at the top of the graph but residuals are a lot more normally distributed."
   ]
  },
  {
   "cell_type": "markdown",
   "metadata": {},
   "source": [
    "### Comparing Results"
   ]
  },
  {
   "cell_type": "code",
   "execution_count": 211,
   "metadata": {},
   "outputs": [],
   "source": [
    "results_data = {'Model': ['Linear', 'Non-Linear'],\n",
    "                  'R-Square':[r2, r2_2],\n",
    "                  'Adjusted R-Square': [Adj_r2, Adj_r2_2],\n",
    "                  'Mean Squared Error': [mse, mse_2],\n",
    "                  'Root Mean Squared Error': [rmse, rmse_2],\n",
    "                  'Mean Absolute Error': [mae, mae_2],\n",
    "                  }\n",
    "\n",
    "df_results = pd.DataFrame(results_data)"
   ]
  },
  {
   "cell_type": "code",
   "execution_count": 212,
   "metadata": {},
   "outputs": [
    {
     "data": {
      "text/html": [
       "<div>\n",
       "<style scoped>\n",
       "    .dataframe tbody tr th:only-of-type {\n",
       "        vertical-align: middle;\n",
       "    }\n",
       "\n",
       "    .dataframe tbody tr th {\n",
       "        vertical-align: top;\n",
       "    }\n",
       "\n",
       "    .dataframe thead th {\n",
       "        text-align: right;\n",
       "    }\n",
       "</style>\n",
       "<table border=\"1\" class=\"dataframe\">\n",
       "  <thead>\n",
       "    <tr style=\"text-align: right;\">\n",
       "      <th></th>\n",
       "      <th>R-Square</th>\n",
       "      <th>Adjusted R-Square</th>\n",
       "      <th>Mean Squared Error</th>\n",
       "      <th>Root Mean Squared Error</th>\n",
       "      <th>Mean Absolute Error</th>\n",
       "    </tr>\n",
       "    <tr>\n",
       "      <th>Model</th>\n",
       "      <th></th>\n",
       "      <th></th>\n",
       "      <th></th>\n",
       "      <th></th>\n",
       "      <th></th>\n",
       "    </tr>\n",
       "  </thead>\n",
       "  <tbody>\n",
       "    <tr>\n",
       "      <th>Linear</th>\n",
       "      <td>0.976042</td>\n",
       "      <td>0.975965</td>\n",
       "      <td>8.133097</td>\n",
       "      <td>2.851858</td>\n",
       "      <td>2.429384</td>\n",
       "    </tr>\n",
       "    <tr>\n",
       "      <th>Non-Linear</th>\n",
       "      <td>0.995707</td>\n",
       "      <td>0.995693</td>\n",
       "      <td>0.000076</td>\n",
       "      <td>0.008709</td>\n",
       "      <td>0.007161</td>\n",
       "    </tr>\n",
       "  </tbody>\n",
       "</table>\n",
       "</div>"
      ],
      "text/plain": [
       "            R-Square  Adjusted R-Square  Mean Squared Error  \\\n",
       "Model                                                         \n",
       "Linear      0.976042           0.975965            8.133097   \n",
       "Non-Linear  0.995707           0.995693            0.000076   \n",
       "\n",
       "            Root Mean Squared Error  Mean Absolute Error  \n",
       "Model                                                     \n",
       "Linear                     2.851858             2.429384  \n",
       "Non-Linear                 0.008709             0.007161  "
      ]
     },
     "execution_count": 212,
     "metadata": {},
     "output_type": "execute_result"
    }
   ],
   "source": [
    "df_results.set_index('Model')"
   ]
  },
  {
   "cell_type": "code",
   "execution_count": 214,
   "metadata": {},
   "outputs": [
    {
     "data": {
      "image/png": "[encoded data removed]",
      "text/plain": [
       "<Figure size 2000x1000 with 6 Axes>"
      ]
     },
     "metadata": {},
     "output_type": "display_data"
    }
   ],
   "source": [
    "figure, axes = plt.subplots(2, 3, figsize = (20,10))\n",
    "\n",
    "# linear regression\n",
    "axes[0,0].scatter(y_test, y_pred, alpha = 0.5)\n",
    "axes[0,0].plot([y.min(), y.max()], [y.min(), y.max()], color = 'red')\n",
    "axes[0,0].set_xlabel('Actual Values')\n",
    "axes[0,0].set_ylabel('Predicted Values')\n",
    "axes[0,0].set_title('Linear Predicted vs Actual Values')\n",
    "\n",
    "axes[0,1].scatter(y_pred, residuals, alpha = 0.5)\n",
    "axes[0,1].set_xlabel('Predicted Values')\n",
    "axes[0,1].set_ylabel('Residuals')\n",
    "axes[0,1].set_title('Linear Residual Plot')\n",
    "\n",
    "stats.probplot(residuals, dist = 'norm', plot = axes[0,2]);\n",
    "axes[0,2].set_title('Linear Probability Plot')\n",
    "\n",
    "# original regression\n",
    "axes[1,0].scatter(y_test2, y_pred2, alpha = 0.5)\n",
    "axes[1,0].plot([y2.min(), y2.max()], [y2.min(), y2.max()], color = 'red')\n",
    "axes[1,0].set_xlabel('Actual Values')\n",
    "axes[1,0].set_ylabel('Predicted Values')\n",
    "axes[1,0].set_title('Non-Linear Predicted vs Actual Values')\n",
    "\n",
    "axes[1,1].scatter(y_pred2, residuals_2, alpha = 0.5)\n",
    "axes[1,1].set_xlabel('Predicted Values')\n",
    "axes[1,1].set_ylabel('Residuals')\n",
    "axes[1,1].set_title('Non-Linear Residual Plot')\n",
    "\n",
    "stats.probplot(residuals_2, dist = 'norm', plot = axes[1,2]);\n",
    "axes[0,2].set_title('Non-Linear Probability Plot')\n",
    "\n",
    "plt.show()"
   ]
  },
  {
   "cell_type": "markdown",
   "metadata": {},
   "source": [
    "We saw that adding a log to both sides of the lienar regression gave us better results. In the linear regression model, the plotted residuals had a very distinct curve shape meaning that there was something up with the normality of the model. Adding a log to height and body weight improved overall results."
   ]
  }
 ],
 "metadata": {
  "kernelspec": {
   "display_name": "Python 3",
   "language": "python",
   "name": "python3"
  },
  "language_info": {
   "codemirror_mode": {
    "name": "ipython",
    "version": 3
   },
   "file_extension": ".py",
   "mimetype": "text/x-python",
   "name": "python",
   "nbconvert_exporter": "python",
   "pygments_lexer": "ipython3",
   "version": "3.11.4"
  }
 },
 "nbformat": 4,
 "nbformat_minor": 2
}
